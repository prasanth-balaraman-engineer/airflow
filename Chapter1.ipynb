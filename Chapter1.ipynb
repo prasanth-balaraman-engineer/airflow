{
  "nbformat": 4,
  "nbformat_minor": 0,
  "metadata": {
    "colab": {
      "provenance": [],
      "gpuType": "T4",
      "authorship_tag": "ABX9TyOlHEzippc73mE6bSh4qcAr",
      "include_colab_link": true
    },
    "kernelspec": {
      "name": "python3",
      "display_name": "Python 3"
    },
    "language_info": {
      "name": "python"
    },
    "accelerator": "GPU",
    "gpuClass": "standard"
  },
  "cells": [
    {
      "cell_type": "markdown",
      "metadata": {
        "id": "view-in-github",
        "colab_type": "text"
      },
      "source": [
        "<a href=\"https://colab.research.google.com/github/prasanth-balaraman-engineer/airflow/blob/main/Chapter1.ipynb\" target=\"_parent\"><img src=\"https://colab.research.google.com/assets/colab-badge.svg\" alt=\"Open In Colab\"/></a>"
      ]
    },
    {
      "cell_type": "code",
      "execution_count": 1,
      "metadata": {
        "colab": {
          "base_uri": "https://localhost:8080/"
        },
        "id": "Ph6B9fU5kHAa",
        "outputId": "b74a9958-b4a0-49f9-f1c6-20a87f58e179"
      },
      "outputs": [
        {
          "output_type": "stream",
          "name": "stderr",
          "text": [
            "<ipython-input-1-aa22bf2279b4>:4: TqdmExperimentalWarning: Using `tqdm.autonotebook.tqdm` in notebook mode. Use `tqdm.tqdm` instead to force console mode (e.g. in jupyter console)\n",
            "  from tqdm.autonotebook import tqdm\n"
          ]
        }
      ],
      "source": [
        "import seaborn as sns\n",
        "import matplotlib.pyplot as plt\n",
        "import numpy as np\n",
        "from tqdm.autonotebook import tqdm\n",
        "import pandas as pd\n",
        "import torch"
      ]
    },
    {
      "cell_type": "code",
      "source": [
        "torch_scalar = torch.tensor(3.14)\n",
        "torch_scalar"
      ],
      "metadata": {
        "colab": {
          "base_uri": "https://localhost:8080/"
        },
        "id": "qX_Wsanek0IM",
        "outputId": "6e13a9bb-3bfc-4559-e83b-a62651d55e6b"
      },
      "execution_count": 2,
      "outputs": [
        {
          "output_type": "execute_result",
          "data": {
            "text/plain": [
              "tensor(3.1400)"
            ]
          },
          "metadata": {},
          "execution_count": 2
        }
      ]
    },
    {
      "cell_type": "code",
      "source": [
        "torch_vector = torch.tensor([1, 2, 3, 4])\n",
        "torch_vector"
      ],
      "metadata": {
        "colab": {
          "base_uri": "https://localhost:8080/"
        },
        "id": "Q1sV2f4VmQMT",
        "outputId": "c1f7f4b0-646b-4077-dc4a-4009fb1e14ad"
      },
      "execution_count": 3,
      "outputs": [
        {
          "output_type": "execute_result",
          "data": {
            "text/plain": [
              "tensor([1, 2, 3, 4])"
            ]
          },
          "metadata": {},
          "execution_count": 3
        }
      ]
    },
    {
      "cell_type": "code",
      "source": [
        "torch_matrix = torch.tensor([[1, 2], \n",
        "                             [3, 4], \n",
        "                             [5, 6], \n",
        "                             [7, 8]])\n",
        "torch_matrix"
      ],
      "metadata": {
        "colab": {
          "base_uri": "https://localhost:8080/"
        },
        "id": "wU7AoZ2CmZSk",
        "outputId": "eed4afcd-788a-4f91-e485-99077fa0acb2"
      },
      "execution_count": 4,
      "outputs": [
        {
          "output_type": "execute_result",
          "data": {
            "text/plain": [
              "tensor([[1, 2],\n",
              "        [3, 4],\n",
              "        [5, 6],\n",
              "        [7, 8]])"
            ]
          },
          "metadata": {},
          "execution_count": 4
        }
      ]
    },
    {
      "cell_type": "code",
      "source": [
        "torch_tensor3d = torch.tensor([[[1, 2, 3, 4], \n",
        "                                [5, 6, 7, 8]], \n",
        "                               [[9, 10, 11, 12], \n",
        "                                [13, 14, 15, 16]],\n",
        "                               [[17, 18, 19, 20], \n",
        "                                [21, 22, 23, 24]], \n",
        "                               [[25, 26, 27, 28], \n",
        "                                [29, 30, 31, 32]]])\n",
        "torch_tensor3d"
      ],
      "metadata": {
        "colab": {
          "base_uri": "https://localhost:8080/"
        },
        "id": "JDffkP3JmuzW",
        "outputId": "8d65609b-d923-4b96-9ec8-1e28121e8f53"
      },
      "execution_count": 5,
      "outputs": [
        {
          "output_type": "execute_result",
          "data": {
            "text/plain": [
              "tensor([[[ 1,  2,  3,  4],\n",
              "         [ 5,  6,  7,  8]],\n",
              "\n",
              "        [[ 9, 10, 11, 12],\n",
              "         [13, 14, 15, 16]],\n",
              "\n",
              "        [[17, 18, 19, 20],\n",
              "         [21, 22, 23, 24]],\n",
              "\n",
              "        [[25, 26, 27, 28],\n",
              "         [29, 30, 31, 32]]])"
            ]
          },
          "metadata": {},
          "execution_count": 5
        }
      ]
    },
    {
      "cell_type": "code",
      "source": [
        "print(torch_scalar.shape)\n",
        "print(torch_vector.shape)\n",
        "print(torch_matrix.shape)\n",
        "print(torch_tensor3d.shape)"
      ],
      "metadata": {
        "colab": {
          "base_uri": "https://localhost:8080/"
        },
        "id": "8l9c3fzGnVQM",
        "outputId": "3ee890e2-c0c2-46e3-8628-a5ef6a54c4b4"
      },
      "execution_count": 6,
      "outputs": [
        {
          "output_type": "stream",
          "name": "stdout",
          "text": [
            "torch.Size([])\n",
            "torch.Size([4])\n",
            "torch.Size([4, 2])\n",
            "torch.Size([4, 2, 4])\n"
          ]
        }
      ]
    },
    {
      "cell_type": "code",
      "source": [
        "print(torch_scalar.dtype)\n",
        "print(torch_vector.dtype)\n",
        "print(torch_matrix.dtype)\n",
        "print(torch_tensor3d.dtype)"
      ],
      "metadata": {
        "colab": {
          "base_uri": "https://localhost:8080/"
        },
        "id": "DEHipANwn1yN",
        "outputId": "20a1169d-dce7-4d52-c048-13aa7fe00a85"
      },
      "execution_count": 7,
      "outputs": [
        {
          "output_type": "stream",
          "name": "stdout",
          "text": [
            "torch.float32\n",
            "torch.int64\n",
            "torch.int64\n",
            "torch.int64\n"
          ]
        }
      ]
    },
    {
      "cell_type": "code",
      "source": [
        "x_np = np.random.random((4, 4))\n",
        "x_np"
      ],
      "metadata": {
        "colab": {
          "base_uri": "https://localhost:8080/"
        },
        "id": "fQDILZ4grqof",
        "outputId": "f5ec33af-841e-4317-e181-11f4776bb204"
      },
      "execution_count": 8,
      "outputs": [
        {
          "output_type": "execute_result",
          "data": {
            "text/plain": [
              "array([[0.31646393, 0.22129172, 0.31724122, 0.93205702],\n",
              "       [0.94850029, 0.39738684, 0.49537999, 0.20717064],\n",
              "       [0.97381025, 0.75421141, 0.43167438, 0.23772617],\n",
              "       [0.93567236, 0.10810585, 0.08532158, 0.2749799 ]])"
            ]
          },
          "metadata": {},
          "execution_count": 8
        }
      ]
    },
    {
      "cell_type": "code",
      "source": [
        "x_pt = torch.tensor(x_np)\n",
        "x_pt"
      ],
      "metadata": {
        "colab": {
          "base_uri": "https://localhost:8080/"
        },
        "id": "fpdTTi0YpRJu",
        "outputId": "057b1aa4-ef1d-4e88-c357-7c446e370a42"
      },
      "execution_count": 9,
      "outputs": [
        {
          "output_type": "execute_result",
          "data": {
            "text/plain": [
              "tensor([[0.3165, 0.2213, 0.3172, 0.9321],\n",
              "        [0.9485, 0.3974, 0.4954, 0.2072],\n",
              "        [0.9738, 0.7542, 0.4317, 0.2377],\n",
              "        [0.9357, 0.1081, 0.0853, 0.2750]], dtype=torch.float64)"
            ]
          },
          "metadata": {},
          "execution_count": 9
        }
      ]
    },
    {
      "cell_type": "code",
      "source": [
        "print(x_np.dtype)\n",
        "print(x_pt.dtype)"
      ],
      "metadata": {
        "colab": {
          "base_uri": "https://localhost:8080/"
        },
        "id": "RRYyleAQppqV",
        "outputId": "1a5d1382-9805-4aa6-cd25-89a5326821a2"
      },
      "execution_count": 10,
      "outputs": [
        {
          "output_type": "stream",
          "name": "stdout",
          "text": [
            "float64\n",
            "torch.float64\n"
          ]
        }
      ]
    },
    {
      "cell_type": "code",
      "source": [
        "x_np = np.asarray(x_np, np.float32)\n",
        "x_np"
      ],
      "metadata": {
        "colab": {
          "base_uri": "https://localhost:8080/"
        },
        "id": "dnB2oWYfqEVT",
        "outputId": "2b484d50-2eb5-4c8e-9c6a-886ab29e3842"
      },
      "execution_count": 11,
      "outputs": [
        {
          "output_type": "execute_result",
          "data": {
            "text/plain": [
              "array([[0.31646392, 0.22129172, 0.31724122, 0.932057  ],\n",
              "       [0.9485003 , 0.39738685, 0.49537998, 0.20717065],\n",
              "       [0.97381026, 0.7542114 , 0.4316744 , 0.23772617],\n",
              "       [0.93567234, 0.10810585, 0.08532158, 0.27497992]], dtype=float32)"
            ]
          },
          "metadata": {},
          "execution_count": 11
        }
      ]
    },
    {
      "cell_type": "code",
      "source": [
        "x_pt = torch.tensor(x_np, dtype=torch.float32)\n",
        "x_pt"
      ],
      "metadata": {
        "colab": {
          "base_uri": "https://localhost:8080/"
        },
        "id": "h_BZz0QjrmXX",
        "outputId": "e0e5d4bb-d42f-4169-f37b-a037c8b912cf"
      },
      "execution_count": 12,
      "outputs": [
        {
          "output_type": "execute_result",
          "data": {
            "text/plain": [
              "tensor([[0.3165, 0.2213, 0.3172, 0.9321],\n",
              "        [0.9485, 0.3974, 0.4954, 0.2072],\n",
              "        [0.9738, 0.7542, 0.4317, 0.2377],\n",
              "        [0.9357, 0.1081, 0.0853, 0.2750]])"
            ]
          },
          "metadata": {},
          "execution_count": 12
        }
      ]
    },
    {
      "cell_type": "code",
      "source": [
        "print(x_np.dtype)\n",
        "print(x_pt.dtype)"
      ],
      "metadata": {
        "colab": {
          "base_uri": "https://localhost:8080/"
        },
        "id": "Wesro96gr10W",
        "outputId": "b2a6562c-569a-4901-c98d-da2980769849"
      },
      "execution_count": 13,
      "outputs": [
        {
          "output_type": "stream",
          "name": "stdout",
          "text": [
            "float32\n",
            "torch.float32\n"
          ]
        }
      ]
    },
    {
      "cell_type": "code",
      "source": [
        "b_np = x_np > 0.5\n",
        "print(b_np)\n",
        "print(b_np.dtype)"
      ],
      "metadata": {
        "colab": {
          "base_uri": "https://localhost:8080/"
        },
        "id": "XtaGB9POsED4",
        "outputId": "94519fa9-f42f-4e90-c03a-3d15af69a16e"
      },
      "execution_count": 14,
      "outputs": [
        {
          "output_type": "stream",
          "name": "stdout",
          "text": [
            "[[False False False  True]\n",
            " [ True False False False]\n",
            " [ True  True False False]\n",
            " [ True False False False]]\n",
            "bool\n"
          ]
        }
      ]
    },
    {
      "cell_type": "code",
      "source": [
        "b_pt = x_pt > 0.5\n",
        "print(b_pt)\n",
        "print(b_pt.dtype)"
      ],
      "metadata": {
        "colab": {
          "base_uri": "https://localhost:8080/"
        },
        "id": "87pG88KDsdo9",
        "outputId": "4bacf548-f433-4e7c-f9bd-432956ddffd3"
      },
      "execution_count": 15,
      "outputs": [
        {
          "output_type": "stream",
          "name": "stdout",
          "text": [
            "tensor([[False, False, False,  True],\n",
            "        [ True, False, False, False],\n",
            "        [ True,  True, False, False],\n",
            "        [ True, False, False, False]])\n",
            "torch.bool\n"
          ]
        }
      ]
    },
    {
      "cell_type": "code",
      "source": [
        "np.sum(x_np)"
      ],
      "metadata": {
        "colab": {
          "base_uri": "https://localhost:8080/"
        },
        "id": "xRLcRpVesu6I",
        "outputId": "901e0d3b-c223-4ad9-d804-3e361badc598"
      },
      "execution_count": 16,
      "outputs": [
        {
          "output_type": "execute_result",
          "data": {
            "text/plain": [
              "7.6369934"
            ]
          },
          "metadata": {},
          "execution_count": 16
        }
      ]
    },
    {
      "cell_type": "code",
      "source": [
        "torch.sum(x_pt)"
      ],
      "metadata": {
        "colab": {
          "base_uri": "https://localhost:8080/"
        },
        "id": "aPtNd0Y-tD6n",
        "outputId": "ab456517-ba89-4aab-bbf5-bacecf502c9a"
      },
      "execution_count": 17,
      "outputs": [
        {
          "output_type": "execute_result",
          "data": {
            "text/plain": [
              "tensor(7.6370)"
            ]
          },
          "metadata": {},
          "execution_count": 17
        }
      ]
    },
    {
      "cell_type": "code",
      "source": [
        "np.transpose(x_np)"
      ],
      "metadata": {
        "colab": {
          "base_uri": "https://localhost:8080/"
        },
        "id": "_HQ7u91atH_D",
        "outputId": "fd51c543-cde8-4b52-a100-f5db2985f739"
      },
      "execution_count": 18,
      "outputs": [
        {
          "output_type": "execute_result",
          "data": {
            "text/plain": [
              "array([[0.31646392, 0.9485003 , 0.97381026, 0.93567234],\n",
              "       [0.22129172, 0.39738685, 0.7542114 , 0.10810585],\n",
              "       [0.31724122, 0.49537998, 0.4316744 , 0.08532158],\n",
              "       [0.932057  , 0.20717065, 0.23772617, 0.27497992]], dtype=float32)"
            ]
          },
          "metadata": {},
          "execution_count": 18
        }
      ]
    },
    {
      "cell_type": "code",
      "source": [
        "np.transpose(x_pt)"
      ],
      "metadata": {
        "colab": {
          "base_uri": "https://localhost:8080/"
        },
        "id": "Fll2mfPBcDUP",
        "outputId": "698f469e-fac2-43e6-c1d3-2ca398d12e0e"
      },
      "execution_count": 19,
      "outputs": [
        {
          "output_type": "execute_result",
          "data": {
            "text/plain": [
              "tensor([[0.3165, 0.9485, 0.9738, 0.9357],\n",
              "        [0.2213, 0.3974, 0.7542, 0.1081],\n",
              "        [0.3172, 0.4954, 0.4317, 0.0853],\n",
              "        [0.9321, 0.2072, 0.2377, 0.2750]])"
            ]
          },
          "metadata": {},
          "execution_count": 19
        }
      ]
    },
    {
      "cell_type": "code",
      "source": [
        "torch.transpose(x_pt, 0 , 1)"
      ],
      "metadata": {
        "colab": {
          "base_uri": "https://localhost:8080/"
        },
        "id": "f6MdrljMcI1y",
        "outputId": "8e9da1bd-6439-4de3-facb-448ee3f2f21b"
      },
      "execution_count": 20,
      "outputs": [
        {
          "output_type": "execute_result",
          "data": {
            "text/plain": [
              "tensor([[0.3165, 0.9485, 0.9738, 0.9357],\n",
              "        [0.2213, 0.3974, 0.7542, 0.1081],\n",
              "        [0.3172, 0.4954, 0.4317, 0.0853],\n",
              "        [0.9321, 0.2072, 0.2377, 0.2750]])"
            ]
          },
          "metadata": {},
          "execution_count": 20
        }
      ]
    },
    {
      "cell_type": "code",
      "source": [
        "torch_tensor3d = torch.tensor([[[1, 2, 3], \n",
        "                                [4, 5, 6]], \n",
        "                               [[7, 8, 9], \n",
        "                                [10, 11, 12]], \n",
        "                               [[13, 14, 15], \n",
        "                                [16, 17, 18]], \n",
        "                               [[19, 20, 21], \n",
        "                                [22, 23, 24]]])\n",
        "torch_tensor3d"
      ],
      "metadata": {
        "colab": {
          "base_uri": "https://localhost:8080/"
        },
        "id": "okmqn8ntcVcN",
        "outputId": "d3ad3bfb-3961-4e0d-8811-bacee2557dec"
      },
      "execution_count": 21,
      "outputs": [
        {
          "output_type": "execute_result",
          "data": {
            "text/plain": [
              "tensor([[[ 1,  2,  3],\n",
              "         [ 4,  5,  6]],\n",
              "\n",
              "        [[ 7,  8,  9],\n",
              "         [10, 11, 12]],\n",
              "\n",
              "        [[13, 14, 15],\n",
              "         [16, 17, 18]],\n",
              "\n",
              "        [[19, 20, 21],\n",
              "         [22, 23, 24]]])"
            ]
          },
          "metadata": {},
          "execution_count": 21
        }
      ]
    },
    {
      "cell_type": "code",
      "source": [
        "torch_tensor3d.shape"
      ],
      "metadata": {
        "colab": {
          "base_uri": "https://localhost:8080/"
        },
        "id": "xdQ2_EGmdFtn",
        "outputId": "7fdaa02d-1133-4ecb-beb5-982775f88f1b"
      },
      "execution_count": 22,
      "outputs": [
        {
          "output_type": "execute_result",
          "data": {
            "text/plain": [
              "torch.Size([4, 2, 3])"
            ]
          },
          "metadata": {},
          "execution_count": 22
        }
      ]
    },
    {
      "cell_type": "code",
      "source": [
        "torch.transpose(torch_tensor3d, 0, 2)"
      ],
      "metadata": {
        "colab": {
          "base_uri": "https://localhost:8080/"
        },
        "id": "v_0JuXj8dW0K",
        "outputId": "c25ca547-186a-4557-8088-207a5486bee0"
      },
      "execution_count": 23,
      "outputs": [
        {
          "output_type": "execute_result",
          "data": {
            "text/plain": [
              "tensor([[[ 1,  7, 13, 19],\n",
              "         [ 4, 10, 16, 22]],\n",
              "\n",
              "        [[ 2,  8, 14, 20],\n",
              "         [ 5, 11, 17, 23]],\n",
              "\n",
              "        [[ 3,  9, 15, 21],\n",
              "         [ 6, 12, 18, 24]]])"
            ]
          },
          "metadata": {},
          "execution_count": 23
        }
      ]
    },
    {
      "cell_type": "code",
      "source": [
        "torch.transpose(torch_tensor3d, 0, 2).shape"
      ],
      "metadata": {
        "colab": {
          "base_uri": "https://localhost:8080/"
        },
        "id": "DjHUw6Shdt1Z",
        "outputId": "32b9b161-3d7a-42b9-a6ac-9d9cc7495ec4"
      },
      "execution_count": 24,
      "outputs": [
        {
          "output_type": "execute_result",
          "data": {
            "text/plain": [
              "torch.Size([3, 2, 4])"
            ]
          },
          "metadata": {},
          "execution_count": 24
        }
      ]
    },
    {
      "cell_type": "code",
      "source": [
        "torch.transpose(torch.transpose(torch_tensor3d, 0, 2), 0, 1).shape"
      ],
      "metadata": {
        "colab": {
          "base_uri": "https://localhost:8080/"
        },
        "id": "3hPuoHiHd-xS",
        "outputId": "16038652-efed-4cff-ba5c-7411d19e30fe"
      },
      "execution_count": 25,
      "outputs": [
        {
          "output_type": "execute_result",
          "data": {
            "text/plain": [
              "torch.Size([2, 3, 4])"
            ]
          },
          "metadata": {},
          "execution_count": 25
        }
      ]
    },
    {
      "cell_type": "code",
      "source": [
        "torch.transpose(torch.transpose(torch_tensor3d, 0, 2), 0, 1)"
      ],
      "metadata": {
        "colab": {
          "base_uri": "https://localhost:8080/"
        },
        "id": "w-L73VUeeMgV",
        "outputId": "327c0ebe-8770-47cb-efa5-6d25832a443c"
      },
      "execution_count": 26,
      "outputs": [
        {
          "output_type": "execute_result",
          "data": {
            "text/plain": [
              "tensor([[[ 1,  7, 13, 19],\n",
              "         [ 2,  8, 14, 20],\n",
              "         [ 3,  9, 15, 21]],\n",
              "\n",
              "        [[ 4, 10, 16, 22],\n",
              "         [ 5, 11, 17, 23],\n",
              "         [ 6, 12, 18, 24]]])"
            ]
          },
          "metadata": {},
          "execution_count": 26
        }
      ]
    },
    {
      "cell_type": "code",
      "source": [
        "import timeit\n",
        "\n",
        "x = torch.rand(2**11, 2**11)\n",
        "time_cpu = timeit.timeit('x @ x', globals=globals(), number=100)"
      ],
      "metadata": {
        "id": "bS4V6cdUeY8T"
      },
      "execution_count": 27,
      "outputs": []
    },
    {
      "cell_type": "code",
      "source": [
        "time_cpu"
      ],
      "metadata": {
        "colab": {
          "base_uri": "https://localhost:8080/"
        },
        "id": "O2fi4yCrfotI",
        "outputId": "3a74ac57-8b4d-4b24-f1bd-ce2e90558210"
      },
      "execution_count": 28,
      "outputs": [
        {
          "output_type": "execute_result",
          "data": {
            "text/plain": [
              "14.732396284000004"
            ]
          },
          "metadata": {},
          "execution_count": 28
        }
      ]
    },
    {
      "cell_type": "code",
      "source": [
        "print(f'Is CUDA available?: {torch.cuda.is_available()}')\n",
        "device = torch.device('cuda')"
      ],
      "metadata": {
        "colab": {
          "base_uri": "https://localhost:8080/"
        },
        "id": "e4SFyEsIgJ5K",
        "outputId": "5f98775a-8fe9-4e02-9f4c-21d43a1b2029"
      },
      "execution_count": 29,
      "outputs": [
        {
          "output_type": "stream",
          "name": "stdout",
          "text": [
            "Is CUDA available?: True\n"
          ]
        }
      ]
    },
    {
      "cell_type": "code",
      "source": [
        "x = x.to(device)\n",
        "time_gpu = timeit.timeit('x @ x', globals=globals(), number=100)"
      ],
      "metadata": {
        "id": "ZwE57mEkgXl-"
      },
      "execution_count": 30,
      "outputs": []
    },
    {
      "cell_type": "code",
      "source": [
        "time_gpu"
      ],
      "metadata": {
        "colab": {
          "base_uri": "https://localhost:8080/"
        },
        "id": "XoBEarp5hvcu",
        "outputId": "87427eed-60ef-4e32-db43-d5202da80119"
      },
      "execution_count": 31,
      "outputs": [
        {
          "output_type": "execute_result",
          "data": {
            "text/plain": [
              "2.746012451000013"
            ]
          },
          "metadata": {},
          "execution_count": 31
        }
      ]
    },
    {
      "cell_type": "code",
      "source": [
        "x = torch.rand(128, 128).to(device)\n",
        "y = torch.rand(128, 128)\n",
        "\n",
        "x * y"
      ],
      "metadata": {
        "colab": {
          "base_uri": "https://localhost:8080/",
          "height": 198
        },
        "id": "jTN1CkL9hzD3",
        "outputId": "36aa0c79-38a6-4e20-efaa-a85184bde325"
      },
      "execution_count": 32,
      "outputs": [
        {
          "output_type": "error",
          "ename": "RuntimeError",
          "evalue": "ignored",
          "traceback": [
            "\u001b[0;31m---------------------------------------------------------------------------\u001b[0m",
            "\u001b[0;31mRuntimeError\u001b[0m                              Traceback (most recent call last)",
            "\u001b[0;32m<ipython-input-32-ca4d3b8c7ae8>\u001b[0m in \u001b[0;36m<cell line: 4>\u001b[0;34m()\u001b[0m\n\u001b[1;32m      2\u001b[0m \u001b[0my\u001b[0m \u001b[0;34m=\u001b[0m \u001b[0mtorch\u001b[0m\u001b[0;34m.\u001b[0m\u001b[0mrand\u001b[0m\u001b[0;34m(\u001b[0m\u001b[0;36m128\u001b[0m\u001b[0;34m,\u001b[0m \u001b[0;36m128\u001b[0m\u001b[0;34m)\u001b[0m\u001b[0;34m\u001b[0m\u001b[0;34m\u001b[0m\u001b[0m\n\u001b[1;32m      3\u001b[0m \u001b[0;34m\u001b[0m\u001b[0m\n\u001b[0;32m----> 4\u001b[0;31m \u001b[0mx\u001b[0m \u001b[0;34m*\u001b[0m \u001b[0my\u001b[0m\u001b[0;34m\u001b[0m\u001b[0;34m\u001b[0m\u001b[0m\n\u001b[0m",
            "\u001b[0;31mRuntimeError\u001b[0m: Expected all tensors to be on the same device, but found at least two devices, cuda:0 and cpu!"
          ]
        }
      ]
    },
    {
      "cell_type": "code",
      "source": [
        "x = torch.rand(128, 128)\n",
        "y = torch.rand(128, 128)\n",
        "\n",
        "print(x)\n",
        "print(y)"
      ],
      "metadata": {
        "colab": {
          "base_uri": "https://localhost:8080/"
        },
        "id": "tRi4qcuTuxb9",
        "outputId": "1f6a53af-9728-4919-f150-fbef15a60d4b"
      },
      "execution_count": 33,
      "outputs": [
        {
          "output_type": "stream",
          "name": "stdout",
          "text": [
            "tensor([[0.1711, 0.1919, 0.6570,  ..., 0.3363, 0.3060, 0.5540],\n",
            "        [0.5138, 0.7009, 0.4538,  ..., 0.1811, 0.3106, 0.6074],\n",
            "        [0.4593, 0.1451, 0.7358,  ..., 0.8023, 0.4591, 0.8989],\n",
            "        ...,\n",
            "        [0.0393, 0.0671, 0.4729,  ..., 0.1598, 0.0064, 0.4739],\n",
            "        [0.8069, 0.8919, 0.3701,  ..., 0.2784, 0.4398, 0.5370],\n",
            "        [0.1925, 0.1014, 0.6738,  ..., 0.4943, 0.7422, 0.1580]])\n",
            "tensor([[0.4729, 0.5954, 0.7062,  ..., 0.3485, 0.9824, 0.3782],\n",
            "        [0.1932, 0.7143, 0.6563,  ..., 0.8950, 0.6963, 0.3102],\n",
            "        [0.7453, 0.0305, 0.2596,  ..., 0.3777, 0.7550, 0.2347],\n",
            "        ...,\n",
            "        [0.9477, 0.8713, 0.5575,  ..., 0.0408, 0.6464, 0.4956],\n",
            "        [0.4675, 0.6627, 0.1565,  ..., 0.6110, 0.5429, 0.0600],\n",
            "        [0.7427, 0.6618, 0.7517,  ..., 0.0811, 0.9973, 0.6042]])\n"
          ]
        }
      ]
    },
    {
      "cell_type": "code",
      "source": [
        "x = x.to(device)\n",
        "y = y.to(device)\n",
        "\n",
        "print(x)\n",
        "print(y)"
      ],
      "metadata": {
        "colab": {
          "base_uri": "https://localhost:8080/"
        },
        "id": "EtayKbOOu_d3",
        "outputId": "e72b0ce6-31ff-4bc4-8472-79c056721b72"
      },
      "execution_count": 34,
      "outputs": [
        {
          "output_type": "stream",
          "name": "stdout",
          "text": [
            "tensor([[0.1711, 0.1919, 0.6570,  ..., 0.3363, 0.3060, 0.5540],\n",
            "        [0.5138, 0.7009, 0.4538,  ..., 0.1811, 0.3106, 0.6074],\n",
            "        [0.4593, 0.1451, 0.7358,  ..., 0.8023, 0.4591, 0.8989],\n",
            "        ...,\n",
            "        [0.0393, 0.0671, 0.4729,  ..., 0.1598, 0.0064, 0.4739],\n",
            "        [0.8069, 0.8919, 0.3701,  ..., 0.2784, 0.4398, 0.5370],\n",
            "        [0.1925, 0.1014, 0.6738,  ..., 0.4943, 0.7422, 0.1580]],\n",
            "       device='cuda:0')\n",
            "tensor([[0.4729, 0.5954, 0.7062,  ..., 0.3485, 0.9824, 0.3782],\n",
            "        [0.1932, 0.7143, 0.6563,  ..., 0.8950, 0.6963, 0.3102],\n",
            "        [0.7453, 0.0305, 0.2596,  ..., 0.3777, 0.7550, 0.2347],\n",
            "        ...,\n",
            "        [0.9477, 0.8713, 0.5575,  ..., 0.0408, 0.6464, 0.4956],\n",
            "        [0.4675, 0.6627, 0.1565,  ..., 0.6110, 0.5429, 0.0600],\n",
            "        [0.7427, 0.6618, 0.7517,  ..., 0.0811, 0.9973, 0.6042]],\n",
            "       device='cuda:0')\n"
          ]
        }
      ]
    },
    {
      "cell_type": "code",
      "source": [
        "z = x @ y\n",
        "z"
      ],
      "metadata": {
        "colab": {
          "base_uri": "https://localhost:8080/"
        },
        "id": "2f1vq4MMwsgW",
        "outputId": "3b5c479a-92cf-412f-ed73-d0a499e41b0d"
      },
      "execution_count": 35,
      "outputs": [
        {
          "output_type": "execute_result",
          "data": {
            "text/plain": [
              "tensor([[27.0693, 29.9897, 32.0913,  ..., 28.4849, 27.5957, 31.5534],\n",
              "        [27.1339, 32.2188, 32.8012,  ..., 29.4535, 29.3466, 31.4867],\n",
              "        [28.2757, 32.0078, 34.1500,  ..., 30.2685, 32.3646, 31.6262],\n",
              "        ...,\n",
              "        [29.6260, 30.9064, 32.2832,  ..., 28.1457, 31.2532, 33.6513],\n",
              "        [29.7145, 34.1857, 33.9164,  ..., 30.4843, 32.3147, 34.9546],\n",
              "        [28.3633, 26.7633, 30.7929,  ..., 27.2799, 26.9493, 30.0976]],\n",
              "       device='cuda:0')"
            ]
          },
          "metadata": {},
          "execution_count": 35
        }
      ]
    },
    {
      "cell_type": "code",
      "source": [
        "z.cpu().numpy()"
      ],
      "metadata": {
        "colab": {
          "base_uri": "https://localhost:8080/"
        },
        "id": "1wksVeflwz9r",
        "outputId": "6201df9d-002d-4285-87aa-ccd4429e1fcf"
      },
      "execution_count": 36,
      "outputs": [
        {
          "output_type": "execute_result",
          "data": {
            "text/plain": [
              "array([[27.06929 , 29.989697, 32.09127 , ..., 28.484947, 27.59573 ,\n",
              "        31.553413],\n",
              "       [27.133884, 32.218845, 32.801197, ..., 29.453543, 29.346645,\n",
              "        31.486732],\n",
              "       [28.275715, 32.007812, 34.150013, ..., 30.26847 , 32.364647,\n",
              "        31.626158],\n",
              "       ...,\n",
              "       [29.626041, 30.906448, 32.283203, ..., 28.145702, 31.253174,\n",
              "        33.65133 ],\n",
              "       [29.714457, 34.185665, 33.916412, ..., 30.48427 , 32.3147  ,\n",
              "        34.954582],\n",
              "       [28.36325 , 26.763294, 30.792852, ..., 27.27988 , 26.949257,\n",
              "        30.097572]], dtype=float32)"
            ]
          },
          "metadata": {},
          "execution_count": 36
        }
      ]
    },
    {
      "cell_type": "code",
      "source": [
        "def move_to(obj, device):\n",
        "  if isinstance(obj, list):\n",
        "    return [move_to(x, device) for x in obj]\n",
        "  elif isinstance(obj, tuple):\n",
        "    return tuple(move_to(list(obj), device))\n",
        "  elif isinstance(obj, set):\n",
        "    return set(move_to(list(obj), device))\n",
        "  elif isinstance(obj, dict):\n",
        "    to_ret = dict()\n",
        "    for key, value in obj.items():\n",
        "      to_ret[move_to(key, device)] = move_to(value, device)\n",
        "    return to_ret\n",
        "  elif hasattr(obj, 'to'):\n",
        "    return obj.to(device)\n",
        "  else:\n",
        "    return obj"
      ],
      "metadata": {
        "id": "d52T3NbKj8qu"
      },
      "execution_count": 37,
      "outputs": []
    },
    {
      "cell_type": "code",
      "source": [
        "torch.tensor(3.14)"
      ],
      "metadata": {
        "colab": {
          "base_uri": "https://localhost:8080/"
        },
        "id": "rc1Ie4WVt-ei",
        "outputId": "92a2ab94-d513-4f72-f52f-7a481a22f6f3"
      },
      "execution_count": 38,
      "outputs": [
        {
          "output_type": "execute_result",
          "data": {
            "text/plain": [
              "tensor(3.1400)"
            ]
          },
          "metadata": {},
          "execution_count": 38
        }
      ]
    },
    {
      "cell_type": "code",
      "source": [
        "move_to(torch.tensor(3.14), device)"
      ],
      "metadata": {
        "colab": {
          "base_uri": "https://localhost:8080/"
        },
        "id": "T9wFtiocvS7Y",
        "outputId": "7ec2a55e-34a0-4270-f188-bf4349c00274"
      },
      "execution_count": 39,
      "outputs": [
        {
          "output_type": "execute_result",
          "data": {
            "text/plain": [
              "tensor(3.1400, device='cuda:0')"
            ]
          },
          "metadata": {},
          "execution_count": 39
        }
      ]
    },
    {
      "cell_type": "code",
      "source": [
        "some_tensors_in_list = [torch.tensor(1), torch.tensor(2)]\n",
        "some_tensors_in_tuple = (torch.tensor(1), torch.tensor(2))\n",
        "some_tensors_in_set = {torch.tensor(1), torch.tensor(2)}\n",
        "\n",
        "print(some_tensors_in_list)\n",
        "print(some_tensors_in_tuple)\n",
        "print(some_tensors_in_set)\n",
        "\n",
        "print(move_to(some_tensors_in_list, device))\n",
        "print(move_to(some_tensors_in_tuple, device))\n",
        "print(move_to(some_tensors_in_set, device))"
      ],
      "metadata": {
        "colab": {
          "base_uri": "https://localhost:8080/"
        },
        "id": "VP7hH0F7vXuO",
        "outputId": "da9d6a2e-1909-4187-f893-15e3042e04f8"
      },
      "execution_count": 40,
      "outputs": [
        {
          "output_type": "stream",
          "name": "stdout",
          "text": [
            "[tensor(1), tensor(2)]\n",
            "(tensor(1), tensor(2))\n",
            "{tensor(1), tensor(2)}\n",
            "[tensor(1, device='cuda:0'), tensor(2, device='cuda:0')]\n",
            "(tensor(1, device='cuda:0'), tensor(2, device='cuda:0'))\n",
            "{tensor(1, device='cuda:0'), tensor(2, device='cuda:0')}\n"
          ]
        }
      ]
    },
    {
      "cell_type": "code",
      "source": [
        "some_tensors_in_dict = {\n",
        "    'a': torch.tensor(1),\n",
        "    'b': torch.tensor(2),\n",
        "}\n",
        "some_tensors_in_dict"
      ],
      "metadata": {
        "colab": {
          "base_uri": "https://localhost:8080/"
        },
        "id": "hhexDRkzv681",
        "outputId": "8f055a17-fa2f-4198-c5af-7afa3d3d660e"
      },
      "execution_count": 41,
      "outputs": [
        {
          "output_type": "execute_result",
          "data": {
            "text/plain": [
              "{'a': tensor(1), 'b': tensor(2)}"
            ]
          },
          "metadata": {},
          "execution_count": 41
        }
      ]
    },
    {
      "cell_type": "code",
      "source": [
        "move_to(some_tensors_in_dict, device)"
      ],
      "metadata": {
        "colab": {
          "base_uri": "https://localhost:8080/"
        },
        "id": "wVm3NUSFxXGB",
        "outputId": "bffa14f0-07a1-49fc-bb40-53efee798ee7"
      },
      "execution_count": 42,
      "outputs": [
        {
          "output_type": "execute_result",
          "data": {
            "text/plain": [
              "{'a': tensor(1, device='cuda:0'), 'b': tensor(2, device='cuda:0')}"
            ]
          },
          "metadata": {},
          "execution_count": 42
        }
      ]
    },
    {
      "cell_type": "code",
      "source": [
        "def f(x):\n",
        "  return torch.pow((x - 2.0), 2)\n",
        "\n",
        "x = np.linspace(-7, 9, 100)\n",
        "y = f(torch.tensor(x)).numpy()\n",
        "\n",
        "sns.lineplot(x=x, y=y, label='$f(x)=(x-2)^2$')"
      ],
      "metadata": {
        "colab": {
          "base_uri": "https://localhost:8080/",
          "height": 447
        },
        "id": "C3SD3MudxeGv",
        "outputId": "2395e01f-9b1b-4fbf-b7bc-07a93a737a5d"
      },
      "execution_count": 52,
      "outputs": [
        {
          "output_type": "execute_result",
          "data": {
            "text/plain": [
              "<Axes: >"
            ]
          },
          "metadata": {},
          "execution_count": 52
        },
        {
          "output_type": "display_data",
          "data": {
            "text/plain": [
              "<Figure size 640x480 with 1 Axes>"
            ],
            "image/png": "[encoded data removed]"
          },
          "metadata": {}
        }
      ]
    },
    {
      "cell_type": "code",
      "source": [
        "def f_p(x):\n",
        "  return (2 * x) - 4\n",
        "\n",
        "y_p = f_p(torch.tensor(x)).numpy()\n",
        "\n",
        "sns.lineplot(x=x, y=[0.0] * len(x), label='0', color='black')\n",
        "sns.lineplot(x=x, y=y, label='Function to minimize $f(x) = (x-2)^2$')\n",
        "sns.lineplot(x=x, y=y_p, label='Gradient of function $f\\'(x) = 2x-4$')"
      ],
      "metadata": {
        "colab": {
          "base_uri": "https://localhost:8080/",
          "height": 447
        },
        "id": "XmV6yHi1XK1o",
        "outputId": "31132dfe-d953-4b94-8b2f-869b602baffa"
      },
      "execution_count": 61,
      "outputs": [
        {
          "output_type": "execute_result",
          "data": {
            "text/plain": [
              "<Axes: >"
            ]
          },
          "metadata": {},
          "execution_count": 61
        },
        {
          "output_type": "display_data",
          "data": {
            "text/plain": [
              "<Figure size 640x480 with 1 Axes>"
            ],
            "image/png": "[encoded data removed]"
          },
          "metadata": {}
        }
      ]
    },
    {
      "cell_type": "code",
      "source": [
        "x = torch.tensor(-3.5)\n",
        "value = f(x)\n",
        "value"
      ],
      "metadata": {
        "colab": {
          "base_uri": "https://localhost:8080/"
        },
        "id": "rI05at9PZEec",
        "outputId": "48a92e48-0a92-4572-e96e-b287bff35474"
      },
      "execution_count": 82,
      "outputs": [
        {
          "output_type": "execute_result",
          "data": {
            "text/plain": [
              "tensor(30.2500)"
            ]
          },
          "metadata": {},
          "execution_count": 82
        }
      ]
    },
    {
      "cell_type": "code",
      "source": [
        "value.backward()\n",
        "x.grad"
      ],
      "metadata": {
        "colab": {
          "base_uri": "https://localhost:8080/",
          "height": 324
        },
        "id": "z1qVS6t2dh3P",
        "outputId": "95048e8a-b237-466f-a429-764aade3e0d9"
      },
      "execution_count": 84,
      "outputs": [
        {
          "output_type": "error",
          "ename": "RuntimeError",
          "evalue": "ignored",
          "traceback": [
            "\u001b[0;31m---------------------------------------------------------------------------\u001b[0m",
            "\u001b[0;31mRuntimeError\u001b[0m                              Traceback (most recent call last)",
            "\u001b[0;32m<ipython-input-84-19e94f10a022>\u001b[0m in \u001b[0;36m<cell line: 1>\u001b[0;34m()\u001b[0m\n\u001b[0;32m----> 1\u001b[0;31m \u001b[0mvalue\u001b[0m\u001b[0;34m.\u001b[0m\u001b[0mbackward\u001b[0m\u001b[0;34m(\u001b[0m\u001b[0;34m)\u001b[0m\u001b[0;34m\u001b[0m\u001b[0;34m\u001b[0m\u001b[0m\n\u001b[0m\u001b[1;32m      2\u001b[0m \u001b[0mx\u001b[0m\u001b[0;34m.\u001b[0m\u001b[0mgrad\u001b[0m\u001b[0;34m\u001b[0m\u001b[0;34m\u001b[0m\u001b[0m\n",
            "\u001b[0;32m/usr/local/lib/python3.10/dist-packages/torch/_tensor.py\u001b[0m in \u001b[0;36mbackward\u001b[0;34m(self, gradient, retain_graph, create_graph, inputs)\u001b[0m\n\u001b[1;32m    485\u001b[0m                 \u001b[0minputs\u001b[0m\u001b[0;34m=\u001b[0m\u001b[0minputs\u001b[0m\u001b[0;34m,\u001b[0m\u001b[0;34m\u001b[0m\u001b[0;34m\u001b[0m\u001b[0m\n\u001b[1;32m    486\u001b[0m             )\n\u001b[0;32m--> 487\u001b[0;31m         torch.autograd.backward(\n\u001b[0m\u001b[1;32m    488\u001b[0m             \u001b[0mself\u001b[0m\u001b[0;34m,\u001b[0m \u001b[0mgradient\u001b[0m\u001b[0;34m,\u001b[0m \u001b[0mretain_graph\u001b[0m\u001b[0;34m,\u001b[0m \u001b[0mcreate_graph\u001b[0m\u001b[0;34m,\u001b[0m \u001b[0minputs\u001b[0m\u001b[0;34m=\u001b[0m\u001b[0minputs\u001b[0m\u001b[0;34m\u001b[0m\u001b[0;34m\u001b[0m\u001b[0m\n\u001b[1;32m    489\u001b[0m         )\n",
            "\u001b[0;32m/usr/local/lib/python3.10/dist-packages/torch/autograd/__init__.py\u001b[0m in \u001b[0;36mbackward\u001b[0;34m(tensors, grad_tensors, retain_graph, create_graph, grad_variables, inputs)\u001b[0m\n\u001b[1;32m    198\u001b[0m     \u001b[0;31m# some Python versions print out the first line of a multi-line function\u001b[0m\u001b[0;34m\u001b[0m\u001b[0;34m\u001b[0m\u001b[0m\n\u001b[1;32m    199\u001b[0m     \u001b[0;31m# calls in the traceback and some print out the last line\u001b[0m\u001b[0;34m\u001b[0m\u001b[0;34m\u001b[0m\u001b[0m\n\u001b[0;32m--> 200\u001b[0;31m     Variable._execution_engine.run_backward(  # Calls into the C++ engine to run the backward pass\n\u001b[0m\u001b[1;32m    201\u001b[0m         \u001b[0mtensors\u001b[0m\u001b[0;34m,\u001b[0m \u001b[0mgrad_tensors_\u001b[0m\u001b[0;34m,\u001b[0m \u001b[0mretain_graph\u001b[0m\u001b[0;34m,\u001b[0m \u001b[0mcreate_graph\u001b[0m\u001b[0;34m,\u001b[0m \u001b[0minputs\u001b[0m\u001b[0;34m,\u001b[0m\u001b[0;34m\u001b[0m\u001b[0;34m\u001b[0m\u001b[0m\n\u001b[1;32m    202\u001b[0m         allow_unreachable=True, accumulate_grad=True)  # Calls into the C++ engine to run the backward pass\n",
            "\u001b[0;31mRuntimeError\u001b[0m: element 0 of tensors does not require grad and does not have a grad_fn"
          ]
        }
      ]
    },
    {
      "cell_type": "code",
      "source": [
        "x = torch.tensor(-3.5, requires_grad=True)\n",
        "value = f(x)\n",
        "value"
      ],
      "metadata": {
        "colab": {
          "base_uri": "https://localhost:8080/"
        },
        "id": "YI1VrXh2babo",
        "outputId": "9f739e45-6cf7-4df2-9ef9-645c8e9faf02"
      },
      "execution_count": 79,
      "outputs": [
        {
          "output_type": "execute_result",
          "data": {
            "text/plain": [
              "tensor(30.2500, grad_fn=<PowBackward0>)"
            ]
          },
          "metadata": {},
          "execution_count": 79
        }
      ]
    },
    {
      "cell_type": "code",
      "source": [
        "value.backward()\n",
        "x.grad"
      ],
      "metadata": {
        "colab": {
          "base_uri": "https://localhost:8080/"
        },
        "id": "488HxX1AbuFG",
        "outputId": "becf9569-3525-44ff-93e0-f9b0e14ed1d0"
      },
      "execution_count": 81,
      "outputs": [
        {
          "output_type": "execute_result",
          "data": {
            "text/plain": [
              "tensor(-11.)"
            ]
          },
          "metadata": {},
          "execution_count": 81
        }
      ]
    },
    {
      "cell_type": "code",
      "source": [
        "x = torch.tensor([-3.5], requires_grad=True)\n",
        "value = f(x)\n",
        "value"
      ],
      "metadata": {
        "colab": {
          "base_uri": "https://localhost:8080/"
        },
        "id": "94ltiaITdbPi",
        "outputId": "e7047d33-505a-4279-b297-eaa1163d872d"
      },
      "execution_count": 85,
      "outputs": [
        {
          "output_type": "execute_result",
          "data": {
            "text/plain": [
              "tensor([30.2500], grad_fn=<PowBackward0>)"
            ]
          },
          "metadata": {},
          "execution_count": 85
        }
      ]
    },
    {
      "cell_type": "code",
      "source": [
        "value.backward()\n",
        "x.grad"
      ],
      "metadata": {
        "colab": {
          "base_uri": "https://localhost:8080/"
        },
        "id": "Xm98KRwOd1ac",
        "outputId": "0861e2a8-87b0-4176-97e0-b887fa8ea9a6"
      },
      "execution_count": 87,
      "outputs": [
        {
          "output_type": "execute_result",
          "data": {
            "text/plain": [
              "tensor([-11.])"
            ]
          },
          "metadata": {},
          "execution_count": 87
        }
      ]
    },
    {
      "cell_type": "code",
      "source": [
        "x = torch.tensor([-3.5, 0, 2, 3.5], requires_grad=True)\n",
        "value = f(x)\n",
        "value"
      ],
      "metadata": {
        "colab": {
          "base_uri": "https://localhost:8080/"
        },
        "id": "AX2ZE7ejd3Zv",
        "outputId": "f00a150c-9821-4567-8fa5-6ec0961ee174"
      },
      "execution_count": 88,
      "outputs": [
        {
          "output_type": "execute_result",
          "data": {
            "text/plain": [
              "tensor([30.2500,  4.0000,  0.0000,  2.2500], grad_fn=<PowBackward0>)"
            ]
          },
          "metadata": {},
          "execution_count": 88
        }
      ]
    },
    {
      "cell_type": "code",
      "source": [
        "value.backward()\n",
        "x.grad"
      ],
      "metadata": {
        "colab": {
          "base_uri": "https://localhost:8080/",
          "height": 324
        },
        "id": "vwrt8fcheCcB",
        "outputId": "a5fc0cd9-5e69-4faa-ec35-259c8682c8e0"
      },
      "execution_count": 91,
      "outputs": [
        {
          "output_type": "error",
          "ename": "RuntimeError",
          "evalue": "ignored",
          "traceback": [
            "\u001b[0;31m---------------------------------------------------------------------------\u001b[0m",
            "\u001b[0;31mRuntimeError\u001b[0m                              Traceback (most recent call last)",
            "\u001b[0;32m<ipython-input-91-19e94f10a022>\u001b[0m in \u001b[0;36m<cell line: 1>\u001b[0;34m()\u001b[0m\n\u001b[0;32m----> 1\u001b[0;31m \u001b[0mvalue\u001b[0m\u001b[0;34m.\u001b[0m\u001b[0mbackward\u001b[0m\u001b[0;34m(\u001b[0m\u001b[0;34m)\u001b[0m\u001b[0;34m\u001b[0m\u001b[0;34m\u001b[0m\u001b[0m\n\u001b[0m\u001b[1;32m      2\u001b[0m \u001b[0mx\u001b[0m\u001b[0;34m.\u001b[0m\u001b[0mgrad\u001b[0m\u001b[0;34m\u001b[0m\u001b[0;34m\u001b[0m\u001b[0m\n",
            "\u001b[0;32m/usr/local/lib/python3.10/dist-packages/torch/_tensor.py\u001b[0m in \u001b[0;36mbackward\u001b[0;34m(self, gradient, retain_graph, create_graph, inputs)\u001b[0m\n\u001b[1;32m    485\u001b[0m                 \u001b[0minputs\u001b[0m\u001b[0;34m=\u001b[0m\u001b[0minputs\u001b[0m\u001b[0;34m,\u001b[0m\u001b[0;34m\u001b[0m\u001b[0;34m\u001b[0m\u001b[0m\n\u001b[1;32m    486\u001b[0m             )\n\u001b[0;32m--> 487\u001b[0;31m         torch.autograd.backward(\n\u001b[0m\u001b[1;32m    488\u001b[0m             \u001b[0mself\u001b[0m\u001b[0;34m,\u001b[0m \u001b[0mgradient\u001b[0m\u001b[0;34m,\u001b[0m \u001b[0mretain_graph\u001b[0m\u001b[0;34m,\u001b[0m \u001b[0mcreate_graph\u001b[0m\u001b[0;34m,\u001b[0m \u001b[0minputs\u001b[0m\u001b[0;34m=\u001b[0m\u001b[0minputs\u001b[0m\u001b[0;34m\u001b[0m\u001b[0;34m\u001b[0m\u001b[0m\n\u001b[1;32m    489\u001b[0m         )\n",
            "\u001b[0;32m/usr/local/lib/python3.10/dist-packages/torch/autograd/__init__.py\u001b[0m in \u001b[0;36mbackward\u001b[0;34m(tensors, grad_tensors, retain_graph, create_graph, grad_variables, inputs)\u001b[0m\n\u001b[1;32m    191\u001b[0m \u001b[0;34m\u001b[0m\u001b[0m\n\u001b[1;32m    192\u001b[0m     \u001b[0mgrad_tensors_\u001b[0m \u001b[0;34m=\u001b[0m \u001b[0m_tensor_or_tensors_to_tuple\u001b[0m\u001b[0;34m(\u001b[0m\u001b[0mgrad_tensors\u001b[0m\u001b[0;34m,\u001b[0m \u001b[0mlen\u001b[0m\u001b[0;34m(\u001b[0m\u001b[0mtensors\u001b[0m\u001b[0;34m)\u001b[0m\u001b[0;34m)\u001b[0m\u001b[0;34m\u001b[0m\u001b[0;34m\u001b[0m\u001b[0m\n\u001b[0;32m--> 193\u001b[0;31m     \u001b[0mgrad_tensors_\u001b[0m \u001b[0;34m=\u001b[0m \u001b[0m_make_grads\u001b[0m\u001b[0;34m(\u001b[0m\u001b[0mtensors\u001b[0m\u001b[0;34m,\u001b[0m \u001b[0mgrad_tensors_\u001b[0m\u001b[0;34m,\u001b[0m \u001b[0mis_grads_batched\u001b[0m\u001b[0;34m=\u001b[0m\u001b[0;32mFalse\u001b[0m\u001b[0;34m)\u001b[0m\u001b[0;34m\u001b[0m\u001b[0;34m\u001b[0m\u001b[0m\n\u001b[0m\u001b[1;32m    194\u001b[0m     \u001b[0;32mif\u001b[0m \u001b[0mretain_graph\u001b[0m \u001b[0;32mis\u001b[0m \u001b[0;32mNone\u001b[0m\u001b[0;34m:\u001b[0m\u001b[0;34m\u001b[0m\u001b[0;34m\u001b[0m\u001b[0m\n\u001b[1;32m    195\u001b[0m         \u001b[0mretain_graph\u001b[0m \u001b[0;34m=\u001b[0m \u001b[0mcreate_graph\u001b[0m\u001b[0;34m\u001b[0m\u001b[0;34m\u001b[0m\u001b[0m\n",
            "\u001b[0;32m/usr/local/lib/python3.10/dist-packages/torch/autograd/__init__.py\u001b[0m in \u001b[0;36m_make_grads\u001b[0;34m(outputs, grads, is_grads_batched)\u001b[0m\n\u001b[1;32m     86\u001b[0m             \u001b[0;32mif\u001b[0m \u001b[0mout\u001b[0m\u001b[0;34m.\u001b[0m\u001b[0mrequires_grad\u001b[0m\u001b[0;34m:\u001b[0m\u001b[0;34m\u001b[0m\u001b[0;34m\u001b[0m\u001b[0m\n\u001b[1;32m     87\u001b[0m                 \u001b[0;32mif\u001b[0m \u001b[0mout\u001b[0m\u001b[0;34m.\u001b[0m\u001b[0mnumel\u001b[0m\u001b[0;34m(\u001b[0m\u001b[0;34m)\u001b[0m \u001b[0;34m!=\u001b[0m \u001b[0;36m1\u001b[0m\u001b[0;34m:\u001b[0m\u001b[0;34m\u001b[0m\u001b[0;34m\u001b[0m\u001b[0m\n\u001b[0;32m---> 88\u001b[0;31m                     \u001b[0;32mraise\u001b[0m \u001b[0mRuntimeError\u001b[0m\u001b[0;34m(\u001b[0m\u001b[0;34m\"grad can be implicitly created only for scalar outputs\"\u001b[0m\u001b[0;34m)\u001b[0m\u001b[0;34m\u001b[0m\u001b[0;34m\u001b[0m\u001b[0m\n\u001b[0m\u001b[1;32m     89\u001b[0m                 \u001b[0mnew_grads\u001b[0m\u001b[0;34m.\u001b[0m\u001b[0mappend\u001b[0m\u001b[0;34m(\u001b[0m\u001b[0mtorch\u001b[0m\u001b[0;34m.\u001b[0m\u001b[0mones_like\u001b[0m\u001b[0;34m(\u001b[0m\u001b[0mout\u001b[0m\u001b[0;34m,\u001b[0m \u001b[0mmemory_format\u001b[0m\u001b[0;34m=\u001b[0m\u001b[0mtorch\u001b[0m\u001b[0;34m.\u001b[0m\u001b[0mpreserve_format\u001b[0m\u001b[0;34m)\u001b[0m\u001b[0;34m)\u001b[0m\u001b[0;34m\u001b[0m\u001b[0;34m\u001b[0m\u001b[0m\n\u001b[1;32m     90\u001b[0m             \u001b[0;32melse\u001b[0m\u001b[0;34m:\u001b[0m\u001b[0;34m\u001b[0m\u001b[0;34m\u001b[0m\u001b[0m\n",
            "\u001b[0;31mRuntimeError\u001b[0m: grad can be implicitly created only for scalar outputs"
          ]
        }
      ]
    },
    {
      "cell_type": "code",
      "source": [
        "x = torch.tensor(2.0, requires_grad=True)\n",
        "value = f(x)\n",
        "value"
      ],
      "metadata": {
        "colab": {
          "base_uri": "https://localhost:8080/"
        },
        "id": "HkwnnTxWeFvN",
        "outputId": "da542768-5f74-493b-c449-40579507e6a7"
      },
      "execution_count": 92,
      "outputs": [
        {
          "output_type": "execute_result",
          "data": {
            "text/plain": [
              "tensor(0., grad_fn=<PowBackward0>)"
            ]
          },
          "metadata": {},
          "execution_count": 92
        }
      ]
    },
    {
      "cell_type": "code",
      "source": [
        "value.backward()\n",
        "x.grad"
      ],
      "metadata": {
        "colab": {
          "base_uri": "https://localhost:8080/"
        },
        "id": "5MmMkvC5ejax",
        "outputId": "41b8f27c-d68f-432e-e1ea-bc93df9648de"
      },
      "execution_count": 93,
      "outputs": [
        {
          "output_type": "execute_result",
          "data": {
            "text/plain": [
              "tensor(0.)"
            ]
          },
          "metadata": {},
          "execution_count": 93
        }
      ]
    },
    {
      "cell_type": "code",
      "source": [
        "x = torch.tensor(-3.5, requires_grad=True)\n",
        "\n",
        "x_curr = x.clone()\n",
        "x_prev = x_curr * 100\n",
        "\n",
        "epsilon = 1e-5\n",
        "eta = 0.1\n",
        "\n",
        "while torch.linalg.norm(x_curr - x_prev) > epsilon:\n",
        "  x_prev = x_curr.clone()\n",
        "  value = f(x)\n",
        "  value.backward()\n",
        "  x.data = x.data - eta * x.grad\n",
        "  print(f'Previous Input: {x_prev:25}, Gradient: {x.grad:25}, Update: {(eta * x.grad):25}, Current Input: {x.data:25}')\n",
        "  x.grad.zero_()\n",
        "  x_curr = x.data"
      ],
      "metadata": {
        "colab": {
          "base_uri": "https://localhost:8080/"
        },
        "id": "EjAK_aLoenDJ",
        "outputId": "df62c70d-e06b-41e5-e321-27ea2b8918b8"
      },
      "execution_count": 118,
      "outputs": [
        {
          "output_type": "stream",
          "name": "stdout",
          "text": [
            "Previous Input:                      -3.5, Gradient:                     -11.0, Update:        -1.100000023841858, Current Input:       -2.4000000953674316\n",
            "Previous Input:       -2.4000000953674316, Gradient:        -8.800000190734863, Update:       -0.8800000548362732, Current Input:       -1.5199999809265137\n",
            "Previous Input:       -1.5199999809265137, Gradient:        -7.039999961853027, Update:       -0.7039999961853027, Current Input:       -0.8159999847412109\n",
            "Previous Input:       -0.8159999847412109, Gradient:        -5.631999969482422, Update:       -0.5631999969482422, Current Input:      -0.25279998779296875\n",
            "Previous Input:      -0.25279998779296875, Gradient:       -4.5055999755859375, Update:       -0.4505600035190582, Current Input:       0.19776001572608948\n",
            "Previous Input:       0.19776001572608948, Gradient:        -3.604480028152466, Update:       -0.3604480028152466, Current Input:        0.5582079887390137\n",
            "Previous Input:        0.5582079887390137, Gradient:       -2.8835840225219727, Update:       -0.2883584201335907, Current Input:        0.8465664386749268\n",
            "Previous Input:        0.8465664386749268, Gradient:       -2.3068671226501465, Update:       -0.2306867092847824, Current Input:        1.0772531032562256\n",
            "Previous Input:        1.0772531032562256, Gradient:       -1.8454937934875488, Update:      -0.18454937636852264, Current Input:        1.2618024349212646\n",
            "Previous Input:        1.2618024349212646, Gradient:       -1.4763951301574707, Update:      -0.14763951301574707, Current Input:        1.4094419479370117\n",
            "Previous Input:        1.4094419479370117, Gradient:       -1.1811161041259766, Update:      -0.11811161041259766, Current Input:        1.5275535583496094\n",
            "Previous Input:        1.5275535583496094, Gradient:       -0.9448928833007812, Update:      -0.09448929131031036, Current Input:        1.6220428943634033\n",
            "Previous Input:        1.6220428943634033, Gradient:       -0.7559142112731934, Update:      -0.07559142261743546, Current Input:        1.6976343393325806\n",
            "Previous Input:        1.6976343393325806, Gradient:       -0.6047313213348389, Update:     -0.060473132878541946, Current Input:        1.7581074237823486\n",
            "Previous Input:        1.7581074237823486, Gradient:      -0.48378515243530273, Update:      -0.04837851598858833, Current Input:         1.806485891342163\n",
            "Previous Input:         1.806485891342163, Gradient:      -0.38702821731567383, Update:       -0.0387028232216835, Current Input:        1.8451887369155884\n",
            "Previous Input:        1.8451887369155884, Gradient:      -0.30962252616882324, Update:     -0.030962252989411354, Current Input:        1.8761509656906128\n",
            "Previous Input:        1.8761509656906128, Gradient:      -0.24769806861877441, Update:      -0.02476980723440647, Current Input:        1.9009207487106323\n",
            "Previous Input:        1.9009207487106323, Gradient:      -0.19815850257873535, Update:     -0.019815851002931595, Current Input:          1.92073655128479\n",
            "Previous Input:          1.92073655128479, Gradient:      -0.15852689743041992, Update:     -0.015852689743041992, Current Input:         1.936589241027832\n",
            "Previous Input:         1.936589241027832, Gradient:      -0.12682151794433594, Update:     -0.012682151980698109, Current Input:        1.9492714405059814\n",
            "Previous Input:        1.9492714405059814, Gradient:      -0.10145711898803711, Update:     -0.010145711712539196, Current Input:        1.9594171047210693\n",
            "Previous Input:        1.9594171047210693, Gradient:      -0.08116579055786133, Update:     -0.008116579614579678, Current Input:        1.9675337076187134\n",
            "Previous Input:        1.9675337076187134, Gradient:      -0.06493258476257324, Update:     -0.006493258755654097, Current Input:        1.9740269184112549\n",
            "Previous Input:        1.9740269184112549, Gradient:     -0.051946163177490234, Update:     -0.005194616504013538, Current Input:        1.9792215824127197\n",
            "Previous Input:        1.9792215824127197, Gradient:      -0.04155683517456055, Update:     -0.004155683796852827, Current Input:          1.98337721824646\n",
            "Previous Input:          1.98337721824646, Gradient:      -0.03324556350708008, Update:    -0.0033245563972741365, Current Input:        1.9867017269134521\n",
            "Previous Input:        1.9867017269134521, Gradient:     -0.026596546173095703, Update:    -0.0026596547104418278, Current Input:        1.9893614053726196\n",
            "Previous Input:        1.9893614053726196, Gradient:     -0.021277189254760742, Update:    -0.0021277188789099455, Current Input:        1.9914891719818115\n",
            "Previous Input:        1.9914891719818115, Gradient:     -0.017021656036376953, Update:     -0.001702165580354631, Current Input:        1.9931913614273071\n",
            "Previous Input:        1.9931913614273071, Gradient:     -0.013617277145385742, Update:    -0.0013617277145385742, Current Input:        1.9945530891418457\n",
            "Previous Input:        1.9945530891418457, Gradient:     -0.010893821716308594, Update:     -0.001089382218196988, Current Input:        1.9956424236297607\n",
            "Previous Input:        1.9956424236297607, Gradient:     -0.008715152740478516, Update:    -0.0008715153089724481, Current Input:        1.9965139627456665\n",
            "Previous Input:        1.9965139627456665, Gradient:     -0.006972074508666992, Update:    -0.0006972074625082314, Current Input:         1.997211217880249\n",
            "Previous Input:         1.997211217880249, Gradient:     -0.005577564239501953, Update:    -0.0005577564588747919, Current Input:        1.9977689981460571\n",
            "Previous Input:        1.9977689981460571, Gradient:     -0.004462003707885742, Update:    -0.0004462003707885742, Current Input:        1.9982151985168457\n",
            "Previous Input:        1.9982151985168457, Gradient:    -0.0035696029663085938, Update:   -0.00035696031409315765, Current Input:        1.9985721111297607\n",
            "Previous Input:        1.9985721111297607, Gradient:    -0.0028557777404785156, Update:   -0.00028557778568938375, Current Input:        1.9988577365875244\n",
            "Previous Input:        1.9988577365875244, Gradient:     -0.002284526824951172, Update:   -0.00022845268540550023, Current Input:        1.9990861415863037\n",
            "Previous Input:        1.9990861415863037, Gradient:    -0.0018277168273925781, Update:   -0.00018277169147040695, Current Input:         1.999268889427185\n",
            "Previous Input:         1.999268889427185, Gradient:    -0.0014622211456298828, Update:   -0.00014622211165260524, Current Input:        1.9994151592254639\n",
            "Previous Input:        1.9994151592254639, Gradient:    -0.0011696815490722656, Update:   -0.00011696815636241809, Current Input:        1.9995321035385132\n",
            "Previous Input:        1.9995321035385132, Gradient:    -0.0009357929229736328, Update:    -9.357929229736328e-05, Current Input:        1.9996256828308105\n",
            "Previous Input:        1.9996256828308105, Gradient:    -0.0007486343383789062, Update:    -7.486343383789062e-05, Current Input:        1.9997005462646484\n",
            "Previous Input:        1.9997005462646484, Gradient:     -0.000598907470703125, Update:    -5.989074634271674e-05, Current Input:         1.999760389328003\n",
            "Previous Input:         1.999760389328003, Gradient:    -0.0004792213439941406, Update:    -4.792213439941406e-05, Current Input:        1.9998083114624023\n",
            "Previous Input:        1.9998083114624023, Gradient:    -0.0003833770751953125, Update:    -3.833770824712701e-05, Current Input:        1.9998466968536377\n",
            "Previous Input:        1.9998466968536377, Gradient:    -0.0003066062927246094, Update:    -3.066063072765246e-05, Current Input:        1.9998773336410522\n",
            "Previous Input:        1.9998773336410522, Gradient:    -0.0002453327178955078, Update:   -2.4533272153348662e-05, Current Input:        1.9999018907546997\n",
            "Previous Input:        1.9999018907546997, Gradient:   -0.00019621849060058594, Update:   -1.9621849787654355e-05, Current Input:        1.9999215602874756\n",
            "Previous Input:        1.9999215602874756, Gradient:   -0.00015687942504882812, Update:   -1.5687943232478574e-05, Current Input:        1.9999372959136963\n",
            "Previous Input:        1.9999372959136963, Gradient:   -0.00012540817260742188, Update:   -1.2540817806439009e-05, Current Input:        1.9999498128890991\n",
            "Previous Input:        1.9999498128890991, Gradient:   -0.00010037422180175781, Update:   -1.0037422725872602e-05, Current Input:        1.9999598264694214\n",
            "Previous Input:        1.9999598264694214, Gradient:    -8.034706115722656e-05, Update:    -8.034706297621597e-06, Current Input:        1.9999678134918213\n"
          ]
        }
      ]
    },
    {
      "cell_type": "code",
      "source": [
        "x_param = torch.nn.Parameter(torch.tensor(-3.5), requires_grad=True)\n",
        "\n",
        "optimizer = torch.optim.SGD(params=[x_param], lr=eta)\n",
        "\n",
        "for epoch in range(60):\n",
        "  optimizer.zero_grad()\n",
        "  loss = f(x_param)\n",
        "  loss.backward()\n",
        "  optimizer.step()\n",
        "print(x_param)"
      ],
      "metadata": {
        "colab": {
          "base_uri": "https://localhost:8080/"
        },
        "id": "13tR2x0MjwJI",
        "outputId": "dece1dd0-54d7-48cb-a1c5-33ea9952793f"
      },
      "execution_count": 131,
      "outputs": [
        {
          "output_type": "stream",
          "name": "stdout",
          "text": [
            "Parameter containing:\n",
            "tensor(2.0000, requires_grad=True)\n"
          ]
        }
      ]
    },
    {
      "cell_type": "code",
      "source": [
        "from torch.utils.data import Dataset\n",
        "from sklearn.datasets import fetch_openml\n",
        "\n",
        "X, y = fetch_openml(name='mnist_784', version=1, return_X_y=True)\n",
        "\n",
        "print(X.shape)\n",
        "print(y.shape)"
      ],
      "metadata": {
        "colab": {
          "base_uri": "https://localhost:8080/"
        },
        "id": "JhyjP6fTqAdY",
        "outputId": "f0f63832-b29d-422e-b8a0-204f257491fc"
      },
      "execution_count": 136,
      "outputs": [
        {
          "output_type": "stream",
          "name": "stderr",
          "text": [
            "/usr/local/lib/python3.10/dist-packages/sklearn/datasets/_openml.py:968: FutureWarning: The default value of `parser` will change from `'liac-arff'` to `'auto'` in 1.4. You can set `parser='auto'` to silence this warning. Therefore, an `ImportError` will be raised from 1.4 if the dataset is dense and pandas is not installed. Note that the pandas parser may return different data types. See the Notes Section in fetch_openml's API doc for details.\n",
            "  warn(\n"
          ]
        },
        {
          "output_type": "stream",
          "name": "stdout",
          "text": [
            "(70000, 784)\n",
            "(70000,)\n"
          ]
        }
      ]
    },
    {
      "cell_type": "code",
      "source": [
        "type(X)\n",
        "type(y)"
      ],
      "metadata": {
        "colab": {
          "base_uri": "https://localhost:8080/"
        },
        "id": "tNPRfSBVyLi8",
        "outputId": "ac0efb40-2cc8-4d2c-dc34-b7e2d8b2fa19"
      },
      "execution_count": 150,
      "outputs": [
        {
          "output_type": "execute_result",
          "data": {
            "text/plain": [
              "pandas.core.series.Series"
            ]
          },
          "metadata": {},
          "execution_count": 150
        }
      ]
    },
    {
      "cell_type": "code",
      "source": [
        "class SimpleDataset(Dataset):\n",
        "  def __init__(self, X, y):\n",
        "    super(SimpleDataset, self).__init__()\n",
        "    self.X = X\n",
        "    self.y = y\n",
        "\n",
        "  def __getitem__(self, index):\n",
        "    print(f'Searching for index: {index}, index type: {type(index)}')\n",
        "    inputs = torch.tensor(self.X.iloc[index, :], dtype=torch.float32)\n",
        "    targets = torch.tensor(int(self.y.iloc[index]), dtype=torch.int64)\n",
        "    return inputs, targets\n",
        "\n",
        "  def __len__(self):\n",
        "    return self.X.shape[0]\n",
        "\n",
        "dataset = SimpleDataset(X, y)"
      ],
      "metadata": {
        "id": "j25c6Lu_ucWs"
      },
      "execution_count": 151,
      "outputs": []
    },
    {
      "cell_type": "code",
      "source": [
        "image, label = dataset[0]\n",
        "print(f'Length: {len(dataset)}')\n",
        "print(f'Features: {image.shape}')\n",
        "print(f'Label: {label}')"
      ],
      "metadata": {
        "colab": {
          "base_uri": "https://localhost:8080/"
        },
        "id": "Rrubksh5wCVq",
        "outputId": "5f56f7ca-427a-457e-ef3a-e527b800549a"
      },
      "execution_count": 157,
      "outputs": [
        {
          "output_type": "stream",
          "name": "stdout",
          "text": [
            "Searching for index: 0, index type: <class 'int'>\n",
            "Length: 70000\n",
            "Features: torch.Size([784])\n",
            "Label: 5\n"
          ]
        }
      ]
    },
    {
      "cell_type": "code",
      "source": [
        "plt.imshow(image.reshape((28, 28)))"
      ],
      "metadata": {
        "colab": {
          "base_uri": "https://localhost:8080/",
          "height": 447
        },
        "id": "U9SOBXNawJzq",
        "outputId": "a5372c97-af8f-485a-9799-dfb302e59b0a"
      },
      "execution_count": 158,
      "outputs": [
        {
          "output_type": "execute_result",
          "data": {
            "text/plain": [
              "<matplotlib.image.AxesImage at 0x7f4960ca12a0>"
            ]
          },
          "metadata": {},
          "execution_count": 158
        },
        {
          "output_type": "display_data",
          "data": {
            "text/plain": [
              "<Figure size 640x480 with 1 Axes>"
            ],
            "image/png": "[encoded data removed]"
          },
          "metadata": {}
        }
      ]
    },
    {
      "cell_type": "code",
      "source": [
        "train_size = int(len(dataset) * 0.8)\n",
        "test_size = len(dataset) - train_size\n",
        "\n",
        "train_dataset, test_dataset = torch.utils.data.random_split(dataset, lengths=(train_size, test_size))\n",
        "print(f'{len(train_dataset)} examples for training and {len(test_dataset)} examples for testing')"
      ],
      "metadata": {
        "colab": {
          "base_uri": "https://localhost:8080/"
        },
        "id": "rhVSeqt1y9wQ",
        "outputId": "fd303a39-d16e-4bc7-8efa-0a4db4ecb256"
      },
      "execution_count": 166,
      "outputs": [
        {
          "output_type": "stream",
          "name": "stdout",
          "text": [
            "56000 examples for training and 14000 examples for testing\n"
          ]
        }
      ]
    },
    {
      "cell_type": "code",
      "source": [
        "tensor_values = []\n",
        "\n",
        "for i in torch_tensor3d:\n",
        "  for j in i:\n",
        "    for k in j:\n",
        "      tensor_values.append(int(k))\n",
        "\n",
        "sum(tensor_values) / len(tensor_values)"
      ],
      "metadata": {
        "colab": {
          "base_uri": "https://localhost:8080/"
        },
        "id": "jwDOUD57zaJN",
        "outputId": "231b9b8e-2dd8-4e98-f9ca-f475d0ee65bd"
      },
      "execution_count": 177,
      "outputs": [
        {
          "output_type": "execute_result",
          "data": {
            "text/plain": [
              "12.5"
            ]
          },
          "metadata": {},
          "execution_count": 177
        }
      ]
    },
    {
      "cell_type": "code",
      "source": [
        "torch_tensor3d"
      ],
      "metadata": {
        "colab": {
          "base_uri": "https://localhost:8080/"
        },
        "id": "itz4B6b5z9z1",
        "outputId": "88198184-012b-4d7a-a8ac-c0d9125f9136"
      },
      "execution_count": 178,
      "outputs": [
        {
          "output_type": "execute_result",
          "data": {
            "text/plain": [
              "tensor([[[ 1,  2,  3],\n",
              "         [ 4,  5,  6]],\n",
              "\n",
              "        [[ 7,  8,  9],\n",
              "         [10, 11, 12]],\n",
              "\n",
              "        [[13, 14, 15],\n",
              "         [16, 17, 18]],\n",
              "\n",
              "        [[19, 20, 21],\n",
              "         [22, 23, 24]]])"
            ]
          },
          "metadata": {},
          "execution_count": 178
        }
      ]
    },
    {
      "cell_type": "code",
      "source": [
        "torch_tensor3d[2][0][0]"
      ],
      "metadata": {
        "colab": {
          "base_uri": "https://localhost:8080/"
        },
        "id": "LxuzeozY05gY",
        "outputId": "a5709ec0-6b94-4cf0-b2a1-5c7436260805"
      },
      "execution_count": 182,
      "outputs": [
        {
          "output_type": "execute_result",
          "data": {
            "text/plain": [
              "tensor(13)"
            ]
          },
          "metadata": {},
          "execution_count": 182
        }
      ]
    },
    {
      "cell_type": "code",
      "source": [
        "cpu_times = []\n",
        "gpu_times = []\n",
        "\n",
        "highest_power = 12\n",
        "\n",
        "for i in range(highest_power):\n",
        "  size = 2**i\n",
        "  X = torch.rand(size, size)\n",
        "  cpu_times.append(timeit.timeit('X @ X', globals=globals(), number=100))\n",
        "\n",
        "  if torch.cuda.is_available():\n",
        "    device = torch.device('cuda')\n",
        "    X = X.to(device)\n",
        "    gpu_times.append(timeit.timeit('X @ X', globals=globals(), number=100))\n",
        "\n",
        "cpu_np = np.array(cpu_times)\n",
        "gpu_np = np.array(gpu_times)\n",
        "\n",
        "size = np.array([2**i for i in range(highest_power)])\n",
        "sns.lineplot(x=size, y=cpu_np, label='CPU execution time')\n",
        "sns.lineplot(x=size, y=gpu_np, label='GPU execution time')"
      ],
      "metadata": {
        "colab": {
          "base_uri": "https://localhost:8080/",
          "height": 447
        },
        "id": "nwmbBcdT09mw",
        "outputId": "b49ac3f8-058c-414f-eb6c-528612328af6"
      },
      "execution_count": 200,
      "outputs": [
        {
          "output_type": "execute_result",
          "data": {
            "text/plain": [
              "<Axes: >"
            ]
          },
          "metadata": {},
          "execution_count": 200
        },
        {
          "output_type": "display_data",
          "data": {
            "text/plain": [
              "<Figure size 640x480 with 1 Axes>"
            ],
            "image/png": "[encoded data removed]"
          },
          "metadata": {}
        }
      ]
    },
    {
      "cell_type": "code",
      "source": [
        "def f(x):\n",
        "  return (torch.sin(x - 2) * torch.pow(x + 2, 2)) + torch.sqrt(torch.abs(torch.cos(x)))\n",
        "\n",
        "x = torch.tensor(3.0)\n",
        "y = f(x)\n",
        "print(x)\n",
        "print(y)"
      ],
      "metadata": {
        "colab": {
          "base_uri": "https://localhost:8080/"
        },
        "id": "rWS6vwaB3HEz",
        "outputId": "4b538d90-68c8-4193-9d87-9d6a459e09db"
      },
      "execution_count": 208,
      "outputs": [
        {
          "output_type": "stream",
          "name": "stdout",
          "text": [
            "tensor(3.)\n",
            "tensor(22.0318)\n"
          ]
        }
      ]
    },
    {
      "cell_type": "code",
      "source": [
        "x = np.linspace(-25, 25, 1000)\n",
        "y = f(torch.tensor(x)).numpy()\n",
        "sns.lineplot(x=x, y=y, label='$f(x)$')"
      ],
      "metadata": {
        "colab": {
          "base_uri": "https://localhost:8080/",
          "height": 447
        },
        "id": "fxml6FNf5UAf",
        "outputId": "4d3dec77-0334-43f2-e0fa-c0c45a5c1d4c"
      },
      "execution_count": 261,
      "outputs": [
        {
          "output_type": "execute_result",
          "data": {
            "text/plain": [
              "<Axes: >"
            ]
          },
          "metadata": {},
          "execution_count": 261
        },
        {
          "output_type": "display_data",
          "data": {
            "text/plain": [
              "<Figure size 640x480 with 1 Axes>"
            ],
            "image/png": "[encoded data removed]"
          },
          "metadata": {}
        }
      ]
    },
    {
      "cell_type": "code",
      "source": [
        "x = torch.tensor(-22.0, requires_grad=True)\n",
        "\n",
        "x_curr = x.clone()\n",
        "x_prev = x_curr * 100\n",
        "\n",
        "epsilon = 1e-20\n",
        "eta = 0.0001\n",
        "\n",
        "while torch.linalg.norm(x_curr - x_prev) > epsilon:\n",
        "  x_prev = x_curr.clone()\n",
        "  value = f(x)\n",
        "  value.backward()\n",
        "  x.data = x.data - eta * x.grad\n",
        "  print(f'Previous Input: {x_prev:25}, Gradient: {x.grad:25}, Updates: {(eta*x.grad):25}, Current Input: {x.data:25}')\n",
        "  x.grad.zero_()\n",
        "  x_curr = x.data"
      ],
      "metadata": {
        "colab": {
          "base_uri": "https://localhost:8080/"
        },
        "id": "K9wKCZ1H52ep",
        "outputId": "3df77250-85bf-4320-a53b-0e4edb33f0ec"
      },
      "execution_count": 268,
      "outputs": [
        {
          "output_type": "stream",
          "name": "stdout",
          "text": [
            "Previous Input:                     -22.0, Gradient:          133.452880859375, Updates:       0.01334528811275959, Current Input:        -22.01334571838379\n",
            "Previous Input:        -22.01334571838379, Gradient:        138.71713256835938, Updates:      0.013871712610125542, Current Input:       -22.027217864990234\n",
            "Previous Input:       -22.027217864990234, Gradient:         144.1769256591797, Updates:      0.014417692087590694, Current Input:       -22.041635513305664\n",
            "Previous Input:       -22.041635513305664, Gradient:          149.837158203125, Updates:      0.014983715489506721, Current Input:        -22.05661964416504\n",
            "Previous Input:        -22.05661964416504, Gradient:         155.7030487060547, Updates:      0.015570304356515408, Current Input:       -22.072189331054688\n",
            "Previous Input:       -22.072189331054688, Gradient:        161.77859497070312, Updates:      0.016177859157323837, Current Input:       -22.088367462158203\n",
            "Previous Input:       -22.088367462158203, Gradient:        168.06875610351562, Updates:       0.01680687442421913, Current Input:       -22.105175018310547\n",
            "Previous Input:       -22.105175018310547, Gradient:        174.57711791992188, Updates:      0.017457710579037666, Current Input:        -22.12263298034668\n",
            "Previous Input:        -22.12263298034668, Gradient:             181.306640625, Updates:       0.01813066378235817, Current Input:       -22.140764236450195\n",
            "Previous Input:       -22.140764236450195, Gradient:        188.26028442382812, Updates:       0.01882602833211422, Current Input:       -22.159589767456055\n",
            "Previous Input:       -22.159589767456055, Gradient:        195.43923950195312, Updates:      0.019543923437595367, Current Input:       -22.179134368896484\n",
            "Previous Input:       -22.179134368896484, Gradient:        202.84542846679688, Updates:      0.020284542813897133, Current Input:       -22.199419021606445\n",
            "Previous Input:       -22.199419021606445, Gradient:         210.4781494140625, Updates:      0.021047813817858696, Current Input:        -22.22046661376953\n",
            "Previous Input:        -22.22046661376953, Gradient:          218.336181640625, Updates:      0.021833617240190506, Current Input:       -22.242300033569336\n",
            "Previous Input:       -22.242300033569336, Gradient:         226.4171142578125, Updates:      0.022641710937023163, Current Input:       -22.264942169189453\n",
            "Previous Input:       -22.264942169189453, Gradient:        234.71697998046875, Updates:       0.02347169816493988, Current Input:       -22.288414001464844\n",
            "Previous Input:       -22.288414001464844, Gradient:        243.22959899902344, Updates:      0.024322958663105965, Current Input:        -22.31273651123047\n",
            "Previous Input:        -22.31273651123047, Gradient:        251.94699096679688, Updates:      0.025194698944687843, Current Input:        -22.33793067932129\n",
            "Previous Input:        -22.33793067932129, Gradient:         260.8593444824219, Updates:      0.026085933670401573, Current Input:       -22.364017486572266\n",
            "Previous Input:       -22.364017486572266, Gradient:         269.9547424316406, Updates:      0.026995474472641945, Current Input:        -22.39101219177246\n",
            "Previous Input:        -22.39101219177246, Gradient:          279.217041015625, Updates:      0.027921702712774277, Current Input:       -22.418933868408203\n",
            "Previous Input:       -22.418933868408203, Gradient:        288.62921142578125, Updates:       0.02886291965842247, Current Input:       -22.447795867919922\n",
            "Previous Input:       -22.447795867919922, Gradient:         298.1695556640625, Updates:       0.02981695532798767, Current Input:        -22.47761344909668\n",
            "Previous Input:        -22.47761344909668, Gradient:         307.8144226074219, Updates:      0.030781442299485207, Current Input:       -22.508394241333008\n",
            "Previous Input:       -22.508394241333008, Gradient:              317.53515625, Updates:       0.03175351396203041, Current Input:        -22.54014778137207\n",
            "Previous Input:        -22.54014778137207, Gradient:         327.3005676269531, Updates:       0.03273005411028862, Current Input:       -22.572877883911133\n",
            "Previous Input:       -22.572877883911133, Gradient:         337.0750732421875, Updates:       0.03370750695466995, Current Input:       -22.606584548950195\n",
            "Previous Input:       -22.606584548950195, Gradient:           346.81884765625, Updates:      0.034681882709264755, Current Input:       -22.641265869140625\n",
            "Previous Input:       -22.641265869140625, Gradient:          356.489013671875, Updates:      0.035648901015520096, Current Input:        -22.67691421508789\n",
            "Previous Input:        -22.67691421508789, Gradient:            366.0380859375, Updates:       0.03660380840301514, Current Input:       -22.713518142700195\n",
            "Previous Input:       -22.713518142700195, Gradient:        375.41522216796875, Updates:       0.03754151985049248, Current Input:       -22.751060485839844\n",
            "Previous Input:       -22.751060485839844, Gradient:         384.5658264160156, Updates:       0.03845658153295517, Current Input:        -22.78951644897461\n",
            "Previous Input:        -22.78951644897461, Gradient:         393.4316711425781, Updates:       0.03934316709637642, Current Input:       -22.828859329223633\n",
            "Previous Input:       -22.828859329223633, Gradient:         401.9527893066406, Updates:        0.0401952788233757, Current Input:       -22.869054794311523\n",
            "Previous Input:       -22.869054794311523, Gradient:         410.0667419433594, Updates:      0.041006673127412796, Current Input:        -22.91006088256836\n",
            "Previous Input:        -22.91006088256836, Gradient:        417.70953369140625, Updates:       0.04177095368504524, Current Input:       -22.951831817626953\n",
            "Previous Input:       -22.951831817626953, Gradient:        424.81719970703125, Updates:       0.04248172044754028, Current Input:       -22.994314193725586\n",
            "Previous Input:       -22.994314193725586, Gradient:         431.3262023925781, Updates:       0.04313261806964874, Current Input:       -23.037446975708008\n",
            "Previous Input:       -23.037446975708008, Gradient:        437.17437744140625, Updates:      0.043717436492443085, Current Input:       -23.081165313720703\n",
            "Previous Input:       -23.081165313720703, Gradient:         442.3028869628906, Updates:       0.04423028603196144, Current Input:       -23.125394821166992\n",
            "Previous Input:       -23.125394821166992, Gradient:         446.6567077636719, Updates:       0.04466566815972328, Current Input:       -23.170061111450195\n",
            "Previous Input:       -23.170061111450195, Gradient:         450.1868896484375, Updates:       0.04501868784427643, Current Input:        -23.21508026123047\n",
            "Previous Input:        -23.21508026123047, Gradient:         452.8509826660156, Updates:      0.045285098254680634, Current Input:       -23.260364532470703\n",
            "Previous Input:       -23.260364532470703, Gradient:          454.614990234375, Updates:        0.0454614982008934, Current Input:        -23.30582618713379\n",
            "Previous Input:        -23.30582618713379, Gradient:         455.4552307128906, Updates:       0.04554552212357521, Current Input:        -23.35137176513672\n",
            "Previous Input:        -23.35137176513672, Gradient:        455.36041259765625, Updates:      0.045536041259765625, Current Input:       -23.396907806396484\n",
            "Previous Input:       -23.396907806396484, Gradient:         454.3363037109375, Updates:       0.04543362930417061, Current Input:       -23.442340850830078\n",
            "Previous Input:       -23.442340850830078, Gradient:           452.41748046875, Updates:       0.04524174705147743, Current Input:        -23.48758316040039\n",
            "Previous Input:        -23.48758316040039, Gradient:          449.712646484375, Updates:       0.04497126489877701, Current Input:       -23.532554626464844\n",
            "Previous Input:       -23.532554626464844, Gradient:        446.76287841796875, Updates:        0.0446762852370739, Current Input:        -23.57723045349121\n",
            "Previous Input:        -23.57723045349121, Gradient:         434.8494873046875, Updates:      0.043484948575496674, Current Input:       -23.620716094970703\n",
            "Previous Input:       -23.620716094970703, Gradient:          431.109619140625, Updates:      0.043110959231853485, Current Input:       -23.663827896118164\n",
            "Previous Input:       -23.663827896118164, Gradient:         425.0602722167969, Updates:       0.04250602796673775, Current Input:        -23.70633316040039\n",
            "Previous Input:        -23.70633316040039, Gradient:         418.0119323730469, Updates:       0.04180119186639786, Current Input:        -23.74813461303711\n",
            "Previous Input:        -23.74813461303711, Gradient:         410.1787414550781, Updates:       0.04101787135004997, Current Input:       -23.789152145385742\n",
            "Previous Input:       -23.789152145385742, Gradient:        401.67315673828125, Updates:       0.04016731306910515, Current Input:        -23.82931900024414\n",
            "Previous Input:        -23.82931900024414, Gradient:         392.5834045410156, Updates:       0.03925833851099014, Current Input:        -23.86857795715332\n",
            "Previous Input:        -23.86857795715332, Gradient:         382.9898681640625, Updates:       0.03829898685216904, Current Input:       -23.906877517700195\n",
            "Previous Input:       -23.906877517700195, Gradient:        372.96954345703125, Updates:       0.03729695454239845, Current Input:        -23.94417381286621\n",
            "Previous Input:        -23.94417381286621, Gradient:         362.5971984863281, Updates:      0.036259718239307404, Current Input:        -23.98043441772461\n",
            "Previous Input:        -23.98043441772461, Gradient:        351.94366455078125, Updates:       0.03519436717033386, Current Input:       -24.015628814697266\n",
            "Previous Input:       -24.015628814697266, Gradient:         341.0780944824219, Updates:       0.03410780802369118, Current Input:        -24.04973602294922\n",
            "Previous Input:        -24.04973602294922, Gradient:         330.0653381347656, Updates:       0.03300653398036957, Current Input:        -24.08274269104004\n",
            "Previous Input:        -24.08274269104004, Gradient:         318.9657897949219, Updates:       0.03189658001065254, Current Input:       -24.114639282226562\n",
            "Previous Input:       -24.114639282226562, Gradient:          307.836181640625, Updates:       0.03078361786901951, Current Input:       -24.145421981811523\n",
            "Previous Input:       -24.145421981811523, Gradient:         296.7284240722656, Updates:      0.029672842472791672, Current Input:       -24.175094604492188\n",
            "Previous Input:       -24.175094604492188, Gradient:        285.68890380859375, Updates:      0.028568889945745468, Current Input:       -24.203662872314453\n",
            "Previous Input:       -24.203662872314453, Gradient:         274.7598876953125, Updates:      0.027475988492369652, Current Input:       -24.231138229370117\n",
            "Previous Input:       -24.231138229370117, Gradient:        263.97845458984375, Updates:      0.026397844776511192, Current Input:       -24.257535934448242\n",
            "Previous Input:       -24.257535934448242, Gradient:         253.3767852783203, Updates:       0.02533767744898796, Current Input:       -24.282873153686523\n",
            "Previous Input:       -24.282873153686523, Gradient:        242.98313903808594, Updates:       0.02429831400513649, Current Input:       -24.307170867919922\n",
            "Previous Input:       -24.307170867919922, Gradient:        232.82102966308594, Updates:       0.02328210324048996, Current Input:       -24.330453872680664\n",
            "Previous Input:       -24.330453872680664, Gradient:        222.90940856933594, Updates:      0.022290939465165138, Current Input:       -24.352745056152344\n",
            "Previous Input:       -24.352745056152344, Gradient:        213.26504516601562, Updates:       0.02132650464773178, Current Input:        -24.37407112121582\n",
            "Previous Input:        -24.37407112121582, Gradient:         203.9005126953125, Updates:       0.02039005048573017, Current Input:       -24.394460678100586\n",
            "Previous Input:       -24.394460678100586, Gradient:        194.82489013671875, Updates:      0.019482487812638283, Current Input:       -24.413942337036133\n",
            "Previous Input:       -24.413942337036133, Gradient:        186.04489135742188, Updates:      0.018604489043354988, Current Input:       -24.432546615600586\n",
            "Previous Input:       -24.432546615600586, Gradient:         177.5642547607422, Updates:      0.017756424844264984, Current Input:       -24.450302124023438\n",
            "Previous Input:       -24.450302124023438, Gradient:        169.38555908203125, Updates:      0.016938555985689163, Current Input:       -24.467241287231445\n",
            "Previous Input:       -24.467241287231445, Gradient:        161.50775146484375, Updates:       0.01615077443420887, Current Input:         -24.4833927154541\n",
            "Previous Input:         -24.4833927154541, Gradient:        153.92996215820312, Updates:      0.015392995439469814, Current Input:         -24.4987850189209\n",
            "Previous Input:         -24.4987850189209, Gradient:        146.64976501464844, Updates:      0.014664975926280022, Current Input:       -24.513450622558594\n",
            "Previous Input:       -24.513450622558594, Gradient:        139.66168212890625, Updates:      0.013966168276965618, Current Input:       -24.527416229248047\n",
            "Previous Input:       -24.527416229248047, Gradient:        132.96160888671875, Updates:      0.013296160846948624, Current Input:       -24.540712356567383\n",
            "Previous Input:       -24.540712356567383, Gradient:         126.5426025390625, Updates:       0.01265425980091095, Current Input:        -24.55336570739746\n",
            "Previous Input:        -24.55336570739746, Gradient:        120.39859008789062, Updates:      0.012039858847856522, Current Input:       -24.565404891967773\n",
            "Previous Input:       -24.565404891967773, Gradient:        114.52168273925781, Updates:      0.011452168226242065, Current Input:        -24.57685661315918\n",
            "Previous Input:        -24.57685661315918, Gradient:        108.90414428710938, Updates:      0.010890414007008076, Current Input:        -24.58774757385254\n",
            "Previous Input:        -24.58774757385254, Gradient:        103.53755187988281, Updates:      0.010353755205869675, Current Input:       -24.598100662231445\n",
            "Previous Input:       -24.598100662231445, Gradient:         98.41474914550781, Updates:      0.009841474704444408, Current Input:       -24.607942581176758\n",
            "Previous Input:       -24.607942581176758, Gradient:         93.52617645263672, Updates:      0.009352616965770721, Current Input:       -24.617294311523438\n",
            "Previous Input:       -24.617294311523438, Gradient:         88.86460876464844, Updates:      0.008886460214853287, Current Input:        -24.62618064880371\n",
            "Previous Input:        -24.62618064880371, Gradient:          84.4205322265625, Updates:      0.008442052640020847, Current Input:        -24.63462257385254\n",
            "Previous Input:        -24.63462257385254, Gradient:         80.18592071533203, Updates:      0.008018591441214085, Current Input:       -24.642641067504883\n",
            "Previous Input:       -24.642641067504883, Gradient:         76.15245056152344, Updates:      0.007615244947373867, Current Input:       -24.650257110595703\n",
            "Previous Input:       -24.650257110595703, Gradient:          72.3115005493164, Updates:      0.007231149822473526, Current Input:       -24.657487869262695\n",
            "Previous Input:       -24.657487869262695, Gradient:         68.65611267089844, Updates:      0.006865611299872398, Current Input:        -24.66435432434082\n",
            "Previous Input:        -24.66435432434082, Gradient:         65.17716979980469, Updates:      0.006517716683447361, Current Input:        -24.67087173461914\n",
            "Previous Input:        -24.67087173461914, Gradient:         61.86827850341797, Updates:      0.006186827551573515, Current Input:       -24.677059173583984\n",
            "Previous Input:       -24.677059173583984, Gradient:         58.72090530395508, Updates:      0.005872090347111225, Current Input:       -24.682931900024414\n",
            "Previous Input:       -24.682931900024414, Gradient:         55.72832107543945, Updates:      0.005572832189500332, Current Input:       -24.688505172729492\n",
            "Previous Input:       -24.688505172729492, Gradient:        52.883644104003906, Updates:      0.005288364365696907, Current Input:        -24.69379425048828\n",
            "Previous Input:        -24.69379425048828, Gradient:        50.179893493652344, Updates:      0.005017989315092564, Current Input:        -24.69881248474121\n",
            "Previous Input:        -24.69881248474121, Gradient:        47.610939025878906, Updates:      0.004761093761771917, Current Input:        -24.70357322692871\n",
            "Previous Input:        -24.70357322692871, Gradient:         45.17057418823242, Updates:      0.004517057444900274, Current Input:        -24.70808982849121\n",
            "Previous Input:        -24.70808982849121, Gradient:         42.85249710083008, Updates:     0.0042852493934333324, Current Input:        -24.71237564086914\n",
            "Previous Input:        -24.71237564086914, Gradient:         40.65033721923828, Updates:     0.0040650335140526295, Current Input:       -24.716440200805664\n",
            "Previous Input:       -24.716440200805664, Gradient:         38.55962371826172, Updates:     0.0038559623062610626, Current Input:        -24.72029685974121\n",
            "Previous Input:        -24.72029685974121, Gradient:         36.57386779785156, Updates:      0.003657386638224125, Current Input:       -24.723955154418945\n",
            "Previous Input:       -24.723955154418945, Gradient:         34.68849182128906, Updates:     0.0034688489977270365, Current Input:        -24.72742462158203\n",
            "Previous Input:        -24.72742462158203, Gradient:        32.898868560791016, Updates:      0.003289886750280857, Current Input:       -24.730714797973633\n",
            "Previous Input:       -24.730714797973633, Gradient:         31.20034408569336, Updates:      0.003120034234598279, Current Input:       -24.733835220336914\n",
            "Previous Input:       -24.733835220336914, Gradient:         29.58823013305664, Updates:     0.0029588229954242706, Current Input:       -24.736793518066406\n",
            "Previous Input:       -24.736793518066406, Gradient:         28.05878448486328, Updates:      0.002805878408253193, Current Input:       -24.739599227905273\n",
            "Previous Input:       -24.739599227905273, Gradient:         26.60726547241211, Updates:     0.0026607264298945665, Current Input:       -24.742259979248047\n",
            "Previous Input:       -24.742259979248047, Gradient:         25.22987937927246, Updates:     0.0025229877792298794, Current Input:       -24.744783401489258\n",
            "Previous Input:       -24.744783401489258, Gradient:        23.922819137573242, Updates:     0.0023922817781567574, Current Input:       -24.747175216674805\n",
            "Previous Input:       -24.747175216674805, Gradient:        22.683246612548828, Updates:     0.0022683246061205864, Current Input:        -24.74944305419922\n",
            "Previous Input:        -24.74944305419922, Gradient:        21.507328033447266, Updates:     0.0021507327910512686, Current Input:        -24.75159454345703\n",
            "Previous Input:        -24.75159454345703, Gradient:        20.391197204589844, Updates:      0.002039119601249695, Current Input:       -24.753633499145508\n",
            "Previous Input:       -24.753633499145508, Gradient:        19.332971572875977, Updates:     0.0019332971423864365, Current Input:        -24.75556755065918\n",
            "Previous Input:        -24.75556755065918, Gradient:         18.32876205444336, Updates:     0.0018328761216253042, Current Input:       -24.757400512695312\n",
            "Previous Input:       -24.757400512695312, Gradient:        17.376665115356445, Updates:     0.0017376664327457547, Current Input:       -24.759138107299805\n",
            "Previous Input:       -24.759138107299805, Gradient:         16.47376251220703, Updates:     0.0016473762225359678, Current Input:       -24.760786056518555\n",
            "Previous Input:       -24.760786056518555, Gradient:        15.617143630981445, Updates:     0.0015617143362760544, Current Input:       -24.762348175048828\n",
            "Previous Input:       -24.762348175048828, Gradient:         14.80487060546875, Updates:     0.0014804870588704944, Current Input:        -24.76382827758789\n",
            "Previous Input:        -24.76382827758789, Gradient:        14.035005569458008, Updates:      0.001403500558808446, Current Input:        -24.76523208618164\n",
            "Previous Input:        -24.76523208618164, Gradient:        13.304607391357422, Updates:     0.0013304606545716524, Current Input:       -24.766563415527344\n",
            "Previous Input:       -24.766563415527344, Gradient:        12.611732482910156, Updates:     0.0012611731654033065, Current Input:       -24.767824172973633\n",
            "Previous Input:       -24.767824172973633, Gradient:         11.95541763305664, Updates:     0.0011955416994169354, Current Input:       -24.769020080566406\n",
            "Previous Input:       -24.769020080566406, Gradient:        11.332706451416016, Updates:     0.0011332705616950989, Current Input:       -24.770153045654297\n",
            "Previous Input:       -24.770153045654297, Gradient:        10.742637634277344, Updates:     0.0010742637095972896, Current Input:        -24.77122688293457\n",
            "Previous Input:        -24.77122688293457, Gradient:        10.183238983154297, Updates:     0.0010183238191530108, Current Input:       -24.772245407104492\n",
            "Previous Input:       -24.772245407104492, Gradient:         9.652545928955078, Updates:     0.0009652545559220016, Current Input:       -24.773210525512695\n",
            "Previous Input:       -24.773210525512695, Gradient:         9.149578094482422, Updates:     0.0009149577817879617, Current Input:       -24.774126052856445\n",
            "Previous Input:       -24.774126052856445, Gradient:         8.672378540039062, Updates:      0.000867237860802561, Current Input:       -24.774993896484375\n",
            "Previous Input:       -24.774993896484375, Gradient:         8.219947814941406, Updates:     0.0008219947339966893, Current Input:       -24.775815963745117\n",
            "Previous Input:       -24.775815963745117, Gradient:         7.791316986083984, Updates:     0.0007791316602379084, Current Input:       -24.776594161987305\n",
            "Previous Input:       -24.776594161987305, Gradient:         7.385494232177734, Updates:     0.0007385493954643607, Current Input:       -24.777332305908203\n",
            "Previous Input:       -24.777332305908203, Gradient:        7.0005035400390625, Updates:     0.0007000503246672451, Current Input:       -24.778032302856445\n",
            "Previous Input:       -24.778032302856445, Gradient:         6.635364532470703, Updates:     0.0006635364261455834, Current Input:       -24.778696060180664\n",
            "Previous Input:       -24.778696060180664, Gradient:         6.289081573486328, Updates:     0.0006289081647992134, Current Input:       -24.779325485229492\n",
            "Previous Input:       -24.779325485229492, Gradient:         5.960666656494141, Updates:     0.0005960666458122432, Current Input:       -24.779922485351562\n",
            "Previous Input:       -24.779922485351562, Gradient:         5.649135589599609, Updates:       0.00056491355644539, Current Input:       -24.780487060546875\n",
            "Previous Input:       -24.780487060546875, Gradient:         5.354503631591797, Updates:     0.0005354503518901765, Current Input:       -24.781023025512695\n",
            "Previous Input:       -24.781023025512695, Gradient:         5.074756622314453, Updates:     0.0005074756336398423, Current Input:       -24.781530380249023\n",
            "Previous Input:       -24.781530380249023, Gradient:         4.809928894042969, Updates:    0.00048099286505021155, Current Input:       -24.782011032104492\n",
            "Previous Input:       -24.782011032104492, Gradient:         4.559013366699219, Updates:     0.0004559013177640736, Current Input:       -24.782466888427734\n",
            "Previous Input:       -24.782466888427734, Gradient:         4.321022033691406, Updates:    0.00043210218427702785, Current Input:       -24.782899856567383\n",
            "Previous Input:       -24.782899856567383, Gradient:        4.0949554443359375, Updates:    0.00040949552203528583, Current Input:       -24.783309936523438\n",
            "Previous Input:       -24.783309936523438, Gradient:        3.8808250427246094, Updates:    0.00038808249519206583, Current Input:         -24.7836971282959\n",
            "Previous Input:         -24.7836971282959, Gradient:         3.678638458251953, Updates:     0.0003678638313431293, Current Input:        -24.78406524658203\n",
            "Previous Input:        -24.78406524658203, Gradient:        3.4863929748535156, Updates:    0.00034863929613493383, Current Input:       -24.784414291381836\n",
            "Previous Input:       -24.784414291381836, Gradient:        3.3041000366210938, Updates:    0.00033040999551303685, Current Input:       -24.784744262695312\n",
            "Previous Input:       -24.784744262695312, Gradient:        3.1317520141601562, Updates:     0.0003131752018816769, Current Input:       -24.785057067871094\n",
            "Previous Input:       -24.785057067871094, Gradient:         2.968372344970703, Updates:    0.00029683721368201077, Current Input:       -24.785354614257812\n",
            "Previous Input:       -24.785354614257812, Gradient:         2.812946319580078, Updates:    0.00028129463316872716, Current Input:       -24.785634994506836\n",
            "Previous Input:       -24.785634994506836, Gradient:         2.666473388671875, Updates:     0.0002666473446879536, Current Input:        -24.78590202331543\n",
            "Previous Input:        -24.78590202331543, Gradient:           2.5269775390625, Updates:    0.00025269773323088884, Current Input:        -24.78615379333496\n",
            "Previous Input:        -24.78615379333496, Gradient:        2.3954391479492188, Updates:    0.00023954390781000257, Current Input:       -24.786394119262695\n",
            "Previous Input:       -24.786394119262695, Gradient:         2.269878387451172, Updates:     0.0002269878314109519, Current Input:           -24.78662109375\n",
            "Previous Input:           -24.78662109375, Gradient:        2.1512908935546875, Updates:     0.0002151290827896446, Current Input:       -24.786836624145508\n",
            "Previous Input:       -24.786836624145508, Gradient:        2.0386734008789062, Updates:    0.00020386734104249626, Current Input:        -24.78704071044922\n",
            "Previous Input:        -24.78704071044922, Gradient:        1.9320297241210938, Updates:    0.00019320296996738762, Current Input:       -24.787233352661133\n",
            "Previous Input:       -24.787233352661133, Gradient:        1.8313713073730469, Updates:     0.0001831371191656217, Current Input:       -24.787416458129883\n",
            "Previous Input:       -24.787416458129883, Gradient:        1.7356834411621094, Updates:    0.00017356833268422633, Current Input:        -24.78759002685547\n",
            "Previous Input:        -24.78759002685547, Gradient:        1.6449851989746094, Updates:    0.00016449851682409644, Current Input:        -24.78775405883789\n",
            "Previous Input:        -24.78775405883789, Gradient:          1.55926513671875, Updates:    0.00015592650743201375, Current Input:        -24.78791046142578\n",
            "Previous Input:        -24.78791046142578, Gradient:        1.4775238037109375, Updates:    0.00014775237650610507, Current Input:       -24.788057327270508\n",
            "Previous Input:       -24.788057327270508, Gradient:        1.4007720947265625, Updates:    0.00014007720164954662, Current Input:       -24.788196563720703\n",
            "Previous Input:       -24.788196563720703, Gradient:        1.3279991149902344, Updates:     0.0001327999052591622, Current Input:          -24.788330078125\n",
            "Previous Input:          -24.788330078125, Gradient:        1.2582206726074219, Updates:    0.00012582205818034708, Current Input:       -24.788455963134766\n",
            "Previous Input:       -24.788455963134766, Gradient:        1.1924285888671875, Updates:    0.00011924285354325548, Current Input:       -24.788576126098633\n",
            "Previous Input:       -24.788576126098633, Gradient:        1.1296195983886719, Updates:    0.00011296195589238778, Current Input:        -24.78868865966797\n",
            "Previous Input:        -24.78868865966797, Gradient:        1.0707969665527344, Updates:    0.00010707969340728596, Current Input:       -24.788795471191406\n",
            "Previous Input:       -24.788795471191406, Gradient:        1.0149650573730469, Updates:    0.00010149650188395754, Current Input:       -24.788896560668945\n",
            "Previous Input:       -24.788896560668945, Gradient:        0.9621353149414062, Updates:     9.621353092370555e-05, Current Input:       -24.788991928100586\n",
            "Previous Input:       -24.788991928100586, Gradient:        0.9122810363769531, Updates:     9.122810297412798e-05, Current Input:        -24.78908348083496\n",
            "Previous Input:        -24.78908348083496, Gradient:        0.8644218444824219, Updates:     8.644218178233132e-05, Current Input:       -24.789169311523438\n",
            "Previous Input:       -24.789169311523438, Gradient:        0.8195571899414062, Updates:      8.19557171780616e-05, Current Input:        -24.78925132751465\n",
            "Previous Input:        -24.78925132751465, Gradient:        0.7766876220703125, Updates:      7.76687593315728e-05, Current Input:       -24.789329528808594\n",
            "Previous Input:       -24.789329528808594, Gradient:        0.7358055114746094, Updates:     7.358055154327303e-05, Current Input:       -24.789403915405273\n",
            "Previous Input:       -24.789403915405273, Gradient:        0.6969184875488281, Updates:     6.969185051275417e-05, Current Input:       -24.789474487304688\n",
            "Previous Input:       -24.789474487304688, Gradient:        0.6600265502929688, Updates:     6.600265624001622e-05, Current Input:       -24.789541244506836\n",
            "Previous Input:       -24.789541244506836, Gradient:        0.6251296997070312, Updates:     6.251296872505918e-05, Current Input:        -24.78960418701172\n",
            "Previous Input:        -24.78960418701172, Gradient:        0.5922203063964844, Updates:     5.922202763031237e-05, Current Input:       -24.789663314819336\n",
            "Previous Input:       -24.789663314819336, Gradient:        0.5613136291503906, Updates:     5.613136090687476e-05, Current Input:       -24.789718627929688\n",
            "Previous Input:       -24.789718627929688, Gradient:        0.5323982238769531, Updates:    5.3239822591422126e-05, Current Input:       -24.789772033691406\n",
            "Previous Input:       -24.789772033691406, Gradient:        0.5044784545898438, Updates:     5.044784484198317e-05, Current Input:        -24.78982162475586\n",
            "Previous Input:        -24.78982162475586, Gradient:        0.4785575866699219, Updates:     4.785575583809987e-05, Current Input:        -24.78986930847168\n",
            "Previous Input:        -24.78986930847168, Gradient:        0.4536323547363281, Updates:     4.536323467618786e-05, Current Input:       -24.789915084838867\n",
            "Previous Input:       -24.789915084838867, Gradient:        0.4296913146972656, Updates:      4.29691317549441e-05, Current Input:       -24.789958953857422\n",
            "Previous Input:       -24.789958953857422, Gradient:        0.4067573547363281, Updates:     4.067573536303826e-05, Current Input:        -24.78999900817871\n",
            "Previous Input:        -24.78999900817871, Gradient:        0.3858184814453125, Updates:     3.858184572891332e-05, Current Input:       -24.790037155151367\n",
            "Previous Input:       -24.790037155151367, Gradient:         0.365875244140625, Updates:     3.658752393675968e-05, Current Input:        -24.79007339477539\n",
            "Previous Input:        -24.79007339477539, Gradient:        0.3469276428222656, Updates:     3.469276271061972e-05, Current Input:        -24.79010772705078\n",
            "Previous Input:        -24.79010772705078, Gradient:        0.3289756774902344, Updates:     3.289756568847224e-05, Current Input:        -24.79014015197754\n",
            "Previous Input:        -24.79014015197754, Gradient:        0.3120269775390625, Updates:     3.120269684586674e-05, Current Input:       -24.790170669555664\n",
            "Previous Input:       -24.790170669555664, Gradient:        0.2960700988769531, Updates:    2.9607008400489576e-05, Current Input:        -24.79020118713379\n",
            "Previous Input:        -24.79020118713379, Gradient:        0.2801170349121094, Updates:    2.8011701942887157e-05, Current Input:        -24.79022979736328\n",
            "Previous Input:        -24.79022979736328, Gradient:        0.2651519775390625, Updates:     2.651519753271714e-05, Current Input:        -24.79025650024414\n",
            "Previous Input:        -24.79025650024414, Gradient:       0.25119781494140625, Updates:    2.5119781639659777e-05, Current Input:       -24.790281295776367\n",
            "Previous Input:       -24.790281295776367, Gradient:        0.2382354736328125, Updates:    2.3823546143830754e-05, Current Input:        -24.79030418395996\n",
            "Previous Input:        -24.79030418395996, Gradient:       0.22626495361328125, Updates:    2.2626494683208875e-05, Current Input:       -24.790327072143555\n",
            "Previous Input:       -24.790327072143555, Gradient:       0.21430206298828125, Updates:    2.1430205379147083e-05, Current Input:       -24.790348052978516\n",
            "Previous Input:       -24.790348052978516, Gradient:       0.20333099365234375, Updates:     2.033309829130303e-05, Current Input:       -24.790369033813477\n",
            "Previous Input:       -24.790369033813477, Gradient:       0.19235992431640625, Updates:     1.923599120345898e-05, Current Input:       -24.790388107299805\n",
            "Previous Input:       -24.790388107299805, Gradient:       0.18238449096679688, Updates:    1.8238448319607414e-05, Current Input:       -24.790407180786133\n",
            "Previous Input:       -24.790407180786133, Gradient:       0.17241287231445312, Updates:    1.7241287423530594e-05, Current Input:       -24.790424346923828\n",
            "Previous Input:       -24.790424346923828, Gradient:       0.16344070434570312, Updates:      1.63440709002316e-05, Current Input:       -24.790441513061523\n",
            "Previous Input:       -24.790441513061523, Gradient:        0.1544647216796875, Updates:     1.544647238915786e-05, Current Input:       -24.790456771850586\n",
            "Previous Input:       -24.790456771850586, Gradient:       0.14648818969726562, Updates:     1.464881825086195e-05, Current Input:        -24.79047203063965\n",
            "Previous Input:        -24.79047203063965, Gradient:       0.13850784301757812, Updates:    1.3850783943780698e-05, Current Input:       -24.790485382080078\n",
            "Previous Input:       -24.790485382080078, Gradient:          0.13153076171875, Updates:    1.3153075997252017e-05, Current Input:       -24.790498733520508\n",
            "Previous Input:       -24.790498733520508, Gradient:       0.12453842163085938, Updates:    1.2453841918613762e-05, Current Input:       -24.790512084960938\n",
            "Previous Input:       -24.790512084960938, Gradient:       0.11756515502929688, Updates:    1.1756515050365124e-05, Current Input:       -24.790523529052734\n",
            "Previous Input:       -24.790523529052734, Gradient:       0.11158370971679688, Updates:    1.1158370398334228e-05, Current Input:        -24.79053497314453\n",
            "Previous Input:        -24.79053497314453, Gradient:       0.10559844970703125, Updates:    1.0559844668023288e-05, Current Input:       -24.790546417236328\n",
            "Previous Input:       -24.790546417236328, Gradient:       0.09961700439453125, Updates:     9.961700015992392e-06, Current Input:       -24.790555953979492\n",
            "Previous Input:       -24.790555953979492, Gradient:       0.09462738037109375, Updates:     9.462737580179237e-06, Current Input:       -24.790565490722656\n",
            "Previous Input:       -24.790565490722656, Gradient:       0.08964157104492188, Updates:     8.964157132140826e-06, Current Input:        -24.79057502746582\n",
            "Previous Input:        -24.79057502746582, Gradient:       0.08465194702148438, Updates:     8.465194696327671e-06, Current Input:        -24.79058265686035\n",
            "Previous Input:        -24.79058265686035, Gradient:       0.08066940307617188, Updates:     8.066939699347131e-06, Current Input:       -24.790590286254883\n",
            "Previous Input:       -24.790590286254883, Gradient:       0.07668304443359375, Updates:      7.66830453358125e-06, Current Input:       -24.790597915649414\n",
            "Previous Input:       -24.790597915649414, Gradient:          0.07269287109375, Updates:     7.269286925293272e-06, Current Input:       -24.790605545043945\n",
            "Previous Input:       -24.790605545043945, Gradient:       0.06870269775390625, Updates:     6.870269771752646e-06, Current Input:       -24.790613174438477\n",
            "Previous Input:       -24.790613174438477, Gradient:        0.0647125244140625, Updates:     6.471252163464669e-06, Current Input:       -24.790618896484375\n",
            "Previous Input:       -24.790618896484375, Gradient:        0.0617218017578125, Updates:     6.172179837449221e-06, Current Input:       -24.790624618530273\n",
            "Previous Input:       -24.790624618530273, Gradient:       0.05872344970703125, Updates:     5.872344900126336e-06, Current Input:       -24.790630340576172\n",
            "Previous Input:       -24.790630340576172, Gradient:      0.055728912353515625, Updates:     5.572891041083494e-06, Current Input:        -24.79063606262207\n",
            "Previous Input:        -24.79063606262207, Gradient:      0.052745819091796875, Updates:    5.2745817811228335e-06, Current Input:        -24.79064178466797\n",
            "Previous Input:        -24.79064178466797, Gradient:      0.049755096435546875, Updates:     4.975509455107385e-06, Current Input:       -24.790647506713867\n",
            "Previous Input:       -24.790647506713867, Gradient:      0.046756744384765625, Updates:    4.6756745177845005e-06, Current Input:       -24.790651321411133\n",
            "Previous Input:       -24.790651321411133, Gradient:         0.044769287109375, Updates:     4.476928552321624e-06, Current Input:         -24.7906551361084\n",
            "Previous Input:         -24.7906551361084, Gradient:        0.0427703857421875, Updates:     4.277038442523917e-06, Current Input:       -24.790658950805664\n",
            "Previous Input:       -24.790658950805664, Gradient:      0.040775299072265625, Updates:     4.077529865753604e-06, Current Input:        -24.79066276550293\n",
            "Previous Input:        -24.79066276550293, Gradient:      0.038784027099609375, Updates:     3.878402822010685e-06, Current Input:       -24.790666580200195\n",
            "Previous Input:       -24.790666580200195, Gradient:        0.0367889404296875, Updates:    3.6788940178666962e-06, Current Input:        -24.79067039489746\n",
            "Previous Input:        -24.79067039489746, Gradient:      0.034793853759765625, Updates:    3.4793852137227077e-06, Current Input:       -24.790674209594727\n",
            "Previous Input:       -24.790674209594727, Gradient:       0.03279876708984375, Updates:    3.2798766369523946e-06, Current Input:       -24.790678024291992\n",
            "Previous Input:       -24.790678024291992, Gradient:        0.0308074951171875, Updates:       3.0807493658358e-06, Current Input:       -24.790681838989258\n",
            "Previous Input:       -24.790681838989258, Gradient:      0.028812408447265625, Updates:    2.8812407890654868e-06, Current Input:       -24.790685653686523\n",
            "Previous Input:       -24.790685653686523, Gradient:      0.026813507080078125, Updates:      2.68135067926778e-06, Current Input:       -24.790687561035156\n",
            "Previous Input:       -24.790687561035156, Gradient:      0.025814056396484375, Updates:    2.5814056243689265e-06, Current Input:        -24.79068946838379\n",
            "Previous Input:        -24.79068946838379, Gradient:       0.02481842041015625, Updates:    2.4818418751237914e-06, Current Input:       -24.790691375732422\n",
            "Previous Input:       -24.790691375732422, Gradient:      0.023822784423828125, Updates:    2.3822783532523317e-06, Current Input:       -24.790693283081055\n",
            "Previous Input:       -24.790693283081055, Gradient:      0.022823333740234375, Updates:    2.2823332983534783e-06, Current Input:       -24.790695190429688\n",
            "Previous Input:       -24.790695190429688, Gradient:       0.02182769775390625, Updates:    2.1827697764820186e-06, Current Input:        -24.79069709777832\n",
            "Previous Input:        -24.79069709777832, Gradient:        0.0208282470703125, Updates:    2.0828247215831652e-06, Current Input:       -24.790699005126953\n",
            "Previous Input:       -24.790699005126953, Gradient:       0.01982879638671875, Updates:     1.982879666684312e-06, Current Input:       -24.790700912475586\n",
            "Previous Input:       -24.790700912475586, Gradient:      0.018833160400390625, Updates:    1.8833160311260144e-06, Current Input:        -24.79070281982422\n",
            "Previous Input:        -24.79070281982422, Gradient:        0.0178375244140625, Updates:     1.783752395567717e-06, Current Input:        -24.79070472717285\n",
            "Previous Input:        -24.79070472717285, Gradient:      0.016841888427734375, Updates:    1.6841887600094196e-06, Current Input:       -24.790706634521484\n",
            "Previous Input:       -24.790706634521484, Gradient:         0.015838623046875, Updates:    1.5838622857700102e-06, Current Input:       -24.790708541870117\n",
            "Previous Input:       -24.790708541870117, Gradient:        0.0148468017578125, Updates:    1.4846801832391066e-06, Current Input:        -24.79071044921875\n",
            "Previous Input:        -24.79071044921875, Gradient:       0.01384735107421875, Updates:    1.3847351283402531e-06, Current Input:       -24.790712356567383\n",
            "Previous Input:       -24.790712356567383, Gradient:      0.012851715087890625, Updates:    1.2851714927819557e-06, Current Input:       -24.790714263916016\n",
            "Previous Input:       -24.790714263916016, Gradient:       0.01184844970703125, Updates:    1.1848449048557086e-06, Current Input:        -24.79071617126465\n",
            "Previous Input:        -24.79071617126465, Gradient:       0.01085662841796875, Updates:     1.085662802324805e-06, Current Input:        -24.79071807861328\n",
            "Previous Input:        -24.79071807861328, Gradient:      0.009860992431640625, Updates:     9.860991667665076e-07, Current Input:       -24.790719985961914\n",
            "Previous Input:       -24.790719985961914, Gradient:      0.008861541748046875, Updates:      8.86154168711073e-07, Current Input:       -24.790719985961914\n"
          ]
        }
      ]
    },
    {
      "cell_type": "code",
      "source": [
        "x_param = torch.nn.Parameter(torch.tensor(-22.0), requires_grad=True)\n",
        "optimizer = torch.optim.SGD(params=[x_param], lr=0.001)\n",
        "\n",
        "for i in range(1000):\n",
        "  optimizer.zero_grad()\n",
        "  loss = f(x_param)\n",
        "  loss.backward()\n",
        "  optimizer.step()\n",
        "print(x_param)"
      ],
      "metadata": {
        "colab": {
          "base_uri": "https://localhost:8080/"
        },
        "id": "95yAmXc88JsF",
        "outputId": "cfdc2a2d-ab4c-4db8-a6ae-d2115d992471"
      },
      "execution_count": 266,
      "outputs": [
        {
          "output_type": "stream",
          "name": "stdout",
          "text": [
            "Parameter containing:\n",
            "tensor(-24.7907, requires_grad=True)\n"
          ]
        }
      ]
    },
    {
      "cell_type": "code",
      "source": [
        "f(x_param.data)"
      ],
      "metadata": {
        "colab": {
          "base_uri": "https://localhost:8080/"
        },
        "id": "hLWI1-62-VSg",
        "outputId": "bd5b90e1-a2e3-4ffb-8eba-a56a1e60fedb"
      },
      "execution_count": 267,
      "outputs": [
        {
          "output_type": "execute_result",
          "data": {
            "text/plain": [
              "tensor(-516.4736)"
            ]
          },
          "metadata": {},
          "execution_count": 267
        }
      ]
    },
    {
      "cell_type": "code",
      "source": [
        "f(torch.tensor(-22.0))"
      ],
      "metadata": {
        "colab": {
          "base_uri": "https://localhost:8080/"
        },
        "id": "qoF5pR4-A188",
        "outputId": "93212829-5648-48d5-e2aa-cd9ea890ad90"
      },
      "execution_count": 273,
      "outputs": [
        {
          "output_type": "execute_result",
          "data": {
            "text/plain": [
              "tensor(363.2313)"
            ]
          },
          "metadata": {},
          "execution_count": 273
        }
      ]
    },
    {
      "cell_type": "code",
      "source": [
        "f(torch.tensor(-23.790719985961914))"
      ],
      "metadata": {
        "colab": {
          "base_uri": "https://localhost:8080/"
        },
        "id": "yvj1MleTAzSH",
        "outputId": "f82b8601-ff28-4b2a-82b0-159d67fe288a"
      },
      "execution_count": 271,
      "outputs": [
        {
          "output_type": "execute_result",
          "data": {
            "text/plain": [
              "tensor(-289.8946)"
            ]
          },
          "metadata": {},
          "execution_count": 271
        }
      ]
    },
    {
      "cell_type": "code",
      "source": [
        "f(torch.tensor(-24.790719985961914))"
      ],
      "metadata": {
        "colab": {
          "base_uri": "https://localhost:8080/"
        },
        "id": "S4iwCgq7--39",
        "outputId": "9f3b6e6d-0b64-4a96-be8c-9d564d219a17"
      },
      "execution_count": 269,
      "outputs": [
        {
          "output_type": "execute_result",
          "data": {
            "text/plain": [
              "tensor(-516.4736)"
            ]
          },
          "metadata": {},
          "execution_count": 269
        }
      ]
    },
    {
      "cell_type": "code",
      "source": [
        "f(torch.tensor(-25.790719985961914))"
      ],
      "metadata": {
        "colab": {
          "base_uri": "https://localhost:8080/"
        },
        "id": "CGxp9jXEAvKC",
        "outputId": "983f794c-21c7-45f2-f3eb-ca65f1f4f5eb"
      },
      "execution_count": 270,
      "outputs": [
        {
          "output_type": "execute_result",
          "data": {
            "text/plain": [
              "tensor(-262.2894)"
            ]
          },
          "metadata": {},
          "execution_count": 270
        }
      ]
    },
    {
      "cell_type": "code",
      "source": [
        "def f(x, y):\n",
        "  return (torch.exp(torch.pow(torch.sin(x), 2)) / torch.pow(x - y, 2)) + torch.pow(x - y, 2)\n",
        "\n",
        "x_param = torch.nn.Parameter(torch.tensor(0.2), requires_grad=True)\n",
        "y_param = torch.nn.Parameter(torch.tensor(10.0), requires_grad=True)\n",
        "\n",
        "optimizer = torch.optim.SGD(params=[x_param, y_param], lr=0.1)\n",
        "\n",
        "for i in range(1000):\n",
        "  optimizer.zero_grad()\n",
        "  loss = f(x_param, y_param)\n",
        "  loss.backward()\n",
        "  optimizer.step()\n",
        "print(x_param)\n",
        "print(y_param)"
      ],
      "metadata": {
        "colab": {
          "base_uri": "https://localhost:8080/"
        },
        "id": "vIGW__tlAxaP",
        "outputId": "c4fd1c25-6323-4b06-bda5-615586657c91"
      },
      "execution_count": 284,
      "outputs": [
        {
          "output_type": "stream",
          "name": "stdout",
          "text": [
            "Parameter containing:\n",
            "tensor(3.1416, requires_grad=True)\n",
            "Parameter containing:\n",
            "tensor(4.1416, requires_grad=True)\n"
          ]
        }
      ]
    },
    {
      "cell_type": "code",
      "source": [
        "x = torch.tensor(2.1419)\n",
        "y = torch.tensor(3.1419)\n",
        "f(x, y)"
      ],
      "metadata": {
        "colab": {
          "base_uri": "https://localhost:8080/"
        },
        "id": "y1kOObbqDBZi",
        "outputId": "26a432ae-2515-4ef9-8be4-dfc8616fef74"
      },
      "execution_count": 281,
      "outputs": [
        {
          "output_type": "execute_result",
          "data": {
            "text/plain": [
              "tensor(3.0295)"
            ]
          },
          "metadata": {},
          "execution_count": 281
        }
      ]
    },
    {
      "cell_type": "code",
      "source": [
        "x = torch.tensor(3.1416)\n",
        "y = torch.tensor(4.1416)\n",
        "f(x, y)"
      ],
      "metadata": {
        "colab": {
          "base_uri": "https://localhost:8080/"
        },
        "id": "9jJHhqG6BPOX",
        "outputId": "146e042f-3ed6-46a0-87f0-49f5bd280f5d"
      },
      "execution_count": 285,
      "outputs": [
        {
          "output_type": "execute_result",
          "data": {
            "text/plain": [
              "tensor(2.)"
            ]
          },
          "metadata": {},
          "execution_count": 285
        }
      ]
    },
    {
      "cell_type": "code",
      "source": [
        "x = torch.tensor(4.1419)\n",
        "y = torch.tensor(5.1419)\n",
        "f(x, y)"
      ],
      "metadata": {
        "colab": {
          "base_uri": "https://localhost:8080/"
        },
        "id": "lUY585zXBRB8",
        "outputId": "0c0541ff-5dbd-4e99-aca8-826db851219c"
      },
      "execution_count": 282,
      "outputs": [
        {
          "output_type": "execute_result",
          "data": {
            "text/plain": [
              "tensor(3.0306)"
            ]
          },
          "metadata": {},
          "execution_count": 282
        }
      ]
    },
    {
      "cell_type": "code",
      "source": [
        "X, y = fetch_openml(name='mnist_784', version=1, return_X_y=True)\n",
        "print(type(X.values))\n",
        "print(type(y))"
      ],
      "metadata": {
        "colab": {
          "base_uri": "https://localhost:8080/"
        },
        "id": "Cw4W3uq1DLC6",
        "outputId": "05c7b8c2-f97d-416c-a9a1-514f6ea1d38e"
      },
      "execution_count": 287,
      "outputs": [
        {
          "output_type": "stream",
          "name": "stderr",
          "text": [
            "/usr/local/lib/python3.10/dist-packages/sklearn/datasets/_openml.py:968: FutureWarning: The default value of `parser` will change from `'liac-arff'` to `'auto'` in 1.4. You can set `parser='auto'` to silence this warning. Therefore, an `ImportError` will be raised from 1.4 if the dataset is dense and pandas is not installed. Note that the pandas parser may return different data types. See the Notes Section in fetch_openml's API doc for details.\n",
            "  warn(\n"
          ]
        },
        {
          "output_type": "stream",
          "name": "stdout",
          "text": [
            "<class 'pandas.core.frame.DataFrame'>\n"
          ]
        },
        {
          "output_type": "execute_result",
          "data": {
            "text/plain": [
              "pandas.core.series.Series"
            ]
          },
          "metadata": {},
          "execution_count": 287
        }
      ]
    },
    {
      "cell_type": "code",
      "source": [
        "X_np = np.array(X).astype(np.float32)\n",
        "y_np = np.array(y).astype(np.int64)\n",
        "\n",
        "X_memmap = np.memmap('mnist_X.memmap', dtype=np.float32, mode='w+', shape=X_np.shape)\n",
        "X_memmap[:] = X_np[:]\n",
        "X_memmap.flush()\n",
        "\n",
        "y_memmap = np.memmap('mnist_y.memmap', dtype=np.int64, mode='w+', shape=y_np.shape)\n",
        "y_memmap[:] = y_np[:]\n",
        "y_memmap.flush()"
      ],
      "metadata": {
        "id": "Xq-61hXWJwyn"
      },
      "execution_count": 311,
      "outputs": []
    },
    {
      "cell_type": "code",
      "source": [
        "!ls -lrt"
      ],
      "metadata": {
        "colab": {
          "base_uri": "https://localhost:8080/"
        },
        "id": "bBmn-HnWMD7u",
        "outputId": "1493b55f-0fa0-4843-9649-8f7dd56ed028"
      },
      "execution_count": 312,
      "outputs": [
        {
          "output_type": "stream",
          "name": "stdout",
          "text": [
            "total 214928\n",
            "drwxr-xr-x 1 root root      4096 May  3 13:31 sample_data\n",
            "-rw-r--r-- 1 root root 219520000 May  6 22:34 mnist_X.memmap\n",
            "-rw-r--r-- 1 root root    560000 May  6 22:34 mnist_y.memmap\n"
          ]
        }
      ]
    },
    {
      "cell_type": "code",
      "source": [
        "loaded_X_memmap = np.memmap('mnist_X.memmap', dtype=np.float32, mode='r', shape=X_np.shape)\n",
        "loaded_y_memmap = np.memmap('mnist_y.memmap', dtype=np.int64, mode='r', shape=y_np.shape)"
      ],
      "metadata": {
        "id": "HjVtVNmzM9yz"
      },
      "execution_count": 313,
      "outputs": []
    },
    {
      "cell_type": "code",
      "source": [
        "print(np.array_equal(loaded_X_memmap, X_memmap))\n",
        "print(np.array_equal(loaded_y_memmap, y_memmap))"
      ],
      "metadata": {
        "colab": {
          "base_uri": "https://localhost:8080/"
        },
        "id": "JyKSVq-RNNMA",
        "outputId": "381f7c46-a1a4-4ece-bfa9-6167c8636f5b"
      },
      "execution_count": 315,
      "outputs": [
        {
          "output_type": "stream",
          "name": "stdout",
          "text": [
            "True\n",
            "True\n"
          ]
        }
      ]
    },
    {
      "cell_type": "code",
      "source": [
        "class MemmapedSimpleDataset(Dataset):\n",
        "  def __init__(self, X, y):\n",
        "    super(MemmapedSimpleDataset, self).__init__()\n",
        "    self.X = X\n",
        "    self.y = y\n",
        "\n",
        "  def __getitem__(self, index):\n",
        "    inputs = torch.tensor(self.X[index, :], dtype=torch.float32)\n",
        "    targets = torch.tensor(self.y[index], dtype=torch.int64)\n",
        "    return inputs, targets\n",
        "\n",
        "  def __len__(self):\n",
        "    return self.X.shape[0]\n",
        "\n",
        "\n",
        "dataset = MemmapedSimpleDataset(X=loaded_X_memmap, y=loaded_y_memmap)"
      ],
      "metadata": {
        "id": "uCFayhJwNYv_"
      },
      "execution_count": 318,
      "outputs": []
    },
    {
      "cell_type": "code",
      "source": [
        "image, label = dataset[0]\n",
        "print(f'Length: {len(dataset)}')\n",
        "print(f'Features: {image.shape}')\n",
        "print(f'Label: {label}')"
      ],
      "metadata": {
        "colab": {
          "base_uri": "https://localhost:8080/"
        },
        "id": "3dWZfbP1OMm_",
        "outputId": "9ca18ecf-0365-4feb-c690-6de95f906271"
      },
      "execution_count": 322,
      "outputs": [
        {
          "output_type": "stream",
          "name": "stdout",
          "text": [
            "Length: 70000\n",
            "Features: torch.Size([784])\n",
            "Label: 5\n"
          ]
        }
      ]
    },
    {
      "cell_type": "code",
      "source": [
        "plt.imshow(image.reshape((28, 28)))"
      ],
      "metadata": {
        "colab": {
          "base_uri": "https://localhost:8080/",
          "height": 447
        },
        "id": "bgB1Jux1OVZ6",
        "outputId": "601592df-e615-4213-d444-982b9947d5c6"
      },
      "execution_count": 323,
      "outputs": [
        {
          "output_type": "execute_result",
          "data": {
            "text/plain": [
              "<matplotlib.image.AxesImage at 0x7f48daf86650>"
            ]
          },
          "metadata": {},
          "execution_count": 323
        },
        {
          "output_type": "display_data",
          "data": {
            "text/plain": [
              "<Figure size 640x480 with 1 Axes>"
            ],
            "image/png": "[encoded data removed]"
          },
          "metadata": {}
        }
      ]
    },
    {
      "cell_type": "code",
      "source": [],
      "metadata": {
        "id": "XTKb5ppoOmfv"
      },
      "execution_count": null,
      "outputs": []
    }
  ]
}