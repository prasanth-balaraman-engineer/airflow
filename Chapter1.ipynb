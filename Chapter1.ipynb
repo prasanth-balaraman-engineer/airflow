{
  "nbformat": 4,
  "nbformat_minor": 0,
  "metadata": {
    "colab": {
      "provenance": [],
      "gpuType": "T4",
      "authorship_tag": "ABX9TyOHxLBXKcbhTIZbSOfDHZaL",
      "include_colab_link": true
    },
    "kernelspec": {
      "name": "python3",
      "display_name": "Python 3"
    },
    "language_info": {
      "name": "python"
    },
    "accelerator": "GPU",
    "gpuClass": "standard"
  },
  "cells": [
    {
      "cell_type": "markdown",
      "metadata": {
        "id": "view-in-github",
        "colab_type": "text"
      },
      "source": [
        "<a href=\"https://colab.research.google.com/github/prasanth-balaraman-engineer/airflow/blob/main/Chapter1.ipynb\" target=\"_parent\"><img src=\"https://colab.research.google.com/assets/colab-badge.svg\" alt=\"Open In Colab\"/></a>"
      ]
    },
    {
      "cell_type": "code",
      "execution_count": 1,
      "metadata": {
        "colab": {
          "base_uri": "https://localhost:8080/"
        },
        "id": "Ph6B9fU5kHAa",
        "outputId": "b74a9958-b4a0-49f9-f1c6-20a87f58e179"
      },
      "outputs": [
        {
          "output_type": "stream",
          "name": "stderr",
          "text": [
            "<ipython-input-1-aa22bf2279b4>:4: TqdmExperimentalWarning: Using `tqdm.autonotebook.tqdm` in notebook mode. Use `tqdm.tqdm` instead to force console mode (e.g. in jupyter console)\n",
            "  from tqdm.autonotebook import tqdm\n"
          ]
        }
      ],
      "source": [
        "import seaborn as sns\n",
        "import matplotlib.pyplot as plt\n",
        "import numpy as np\n",
        "from tqdm.autonotebook import tqdm\n",
        "import pandas as pd\n",
        "import torch"
      ]
    },
    {
      "cell_type": "code",
      "source": [
        "torch_scalar = torch.tensor(3.14)\n",
        "torch_scalar"
      ],
      "metadata": {
        "colab": {
          "base_uri": "https://localhost:8080/"
        },
        "id": "qX_Wsanek0IM",
        "outputId": "6e13a9bb-3bfc-4559-e83b-a62651d55e6b"
      },
      "execution_count": 2,
      "outputs": [
        {
          "output_type": "execute_result",
          "data": {
            "text/plain": [
              "tensor(3.1400)"
            ]
          },
          "metadata": {},
          "execution_count": 2
        }
      ]
    },
    {
      "cell_type": "code",
      "source": [
        "torch_vector = torch.tensor([1, 2, 3, 4])\n",
        "torch_vector"
      ],
      "metadata": {
        "colab": {
          "base_uri": "https://localhost:8080/"
        },
        "id": "Q1sV2f4VmQMT",
        "outputId": "c1f7f4b0-646b-4077-dc4a-4009fb1e14ad"
      },
      "execution_count": 3,
      "outputs": [
        {
          "output_type": "execute_result",
          "data": {
            "text/plain": [
              "tensor([1, 2, 3, 4])"
            ]
          },
          "metadata": {},
          "execution_count": 3
        }
      ]
    },
    {
      "cell_type": "code",
      "source": [
        "torch_matrix = torch.tensor([[1, 2], \n",
        "                             [3, 4], \n",
        "                             [5, 6], \n",
        "                             [7, 8]])\n",
        "torch_matrix"
      ],
      "metadata": {
        "colab": {
          "base_uri": "https://localhost:8080/"
        },
        "id": "wU7AoZ2CmZSk",
        "outputId": "eed4afcd-788a-4f91-e485-99077fa0acb2"
      },
      "execution_count": 4,
      "outputs": [
        {
          "output_type": "execute_result",
          "data": {
            "text/plain": [
              "tensor([[1, 2],\n",
              "        [3, 4],\n",
              "        [5, 6],\n",
              "        [7, 8]])"
            ]
          },
          "metadata": {},
          "execution_count": 4
        }
      ]
    },
    {
      "cell_type": "code",
      "source": [
        "torch_tensor3d = torch.tensor([[[1, 2, 3, 4], \n",
        "                                [5, 6, 7, 8]], \n",
        "                               [[9, 10, 11, 12], \n",
        "                                [13, 14, 15, 16]],\n",
        "                               [[17, 18, 19, 20], \n",
        "                                [21, 22, 23, 24]], \n",
        "                               [[25, 26, 27, 28], \n",
        "                                [29, 30, 31, 32]]])\n",
        "torch_tensor3d"
      ],
      "metadata": {
        "colab": {
          "base_uri": "https://localhost:8080/"
        },
        "id": "JDffkP3JmuzW",
        "outputId": "8d65609b-d923-4b96-9ec8-1e28121e8f53"
      },
      "execution_count": 5,
      "outputs": [
        {
          "output_type": "execute_result",
          "data": {
            "text/plain": [
              "tensor([[[ 1,  2,  3,  4],\n",
              "         [ 5,  6,  7,  8]],\n",
              "\n",
              "        [[ 9, 10, 11, 12],\n",
              "         [13, 14, 15, 16]],\n",
              "\n",
              "        [[17, 18, 19, 20],\n",
              "         [21, 22, 23, 24]],\n",
              "\n",
              "        [[25, 26, 27, 28],\n",
              "         [29, 30, 31, 32]]])"
            ]
          },
          "metadata": {},
          "execution_count": 5
        }
      ]
    },
    {
      "cell_type": "code",
      "source": [
        "print(torch_scalar.shape)\n",
        "print(torch_vector.shape)\n",
        "print(torch_matrix.shape)\n",
        "print(torch_tensor3d.shape)"
      ],
      "metadata": {
        "colab": {
          "base_uri": "https://localhost:8080/"
        },
        "id": "8l9c3fzGnVQM",
        "outputId": "3ee890e2-c0c2-46e3-8628-a5ef6a54c4b4"
      },
      "execution_count": 6,
      "outputs": [
        {
          "output_type": "stream",
          "name": "stdout",
          "text": [
            "torch.Size([])\n",
            "torch.Size([4])\n",
            "torch.Size([4, 2])\n",
            "torch.Size([4, 2, 4])\n"
          ]
        }
      ]
    },
    {
      "cell_type": "code",
      "source": [
        "print(torch_scalar.dtype)\n",
        "print(torch_vector.dtype)\n",
        "print(torch_matrix.dtype)\n",
        "print(torch_tensor3d.dtype)"
      ],
      "metadata": {
        "colab": {
          "base_uri": "https://localhost:8080/"
        },
        "id": "DEHipANwn1yN",
        "outputId": "20a1169d-dce7-4d52-c048-13aa7fe00a85"
      },
      "execution_count": 7,
      "outputs": [
        {
          "output_type": "stream",
          "name": "stdout",
          "text": [
            "torch.float32\n",
            "torch.int64\n",
            "torch.int64\n",
            "torch.int64\n"
          ]
        }
      ]
    },
    {
      "cell_type": "code",
      "source": [
        "x_np = np.random.random((4, 4))\n",
        "x_np"
      ],
      "metadata": {
        "colab": {
          "base_uri": "https://localhost:8080/"
        },
        "id": "fQDILZ4grqof",
        "outputId": "f5ec33af-841e-4317-e181-11f4776bb204"
      },
      "execution_count": 8,
      "outputs": [
        {
          "output_type": "execute_result",
          "data": {
            "text/plain": [
              "array([[0.31646393, 0.22129172, 0.31724122, 0.93205702],\n",
              "       [0.94850029, 0.39738684, 0.49537999, 0.20717064],\n",
              "       [0.97381025, 0.75421141, 0.43167438, 0.23772617],\n",
              "       [0.93567236, 0.10810585, 0.08532158, 0.2749799 ]])"
            ]
          },
          "metadata": {},
          "execution_count": 8
        }
      ]
    },
    {
      "cell_type": "code",
      "source": [
        "x_pt = torch.tensor(x_np)\n",
        "x_pt"
      ],
      "metadata": {
        "colab": {
          "base_uri": "https://localhost:8080/"
        },
        "id": "fpdTTi0YpRJu",
        "outputId": "057b1aa4-ef1d-4e88-c357-7c446e370a42"
      },
      "execution_count": 9,
      "outputs": [
        {
          "output_type": "execute_result",
          "data": {
            "text/plain": [
              "tensor([[0.3165, 0.2213, 0.3172, 0.9321],\n",
              "        [0.9485, 0.3974, 0.4954, 0.2072],\n",
              "        [0.9738, 0.7542, 0.4317, 0.2377],\n",
              "        [0.9357, 0.1081, 0.0853, 0.2750]], dtype=torch.float64)"
            ]
          },
          "metadata": {},
          "execution_count": 9
        }
      ]
    },
    {
      "cell_type": "code",
      "source": [
        "print(x_np.dtype)\n",
        "print(x_pt.dtype)"
      ],
      "metadata": {
        "colab": {
          "base_uri": "https://localhost:8080/"
        },
        "id": "RRYyleAQppqV",
        "outputId": "1a5d1382-9805-4aa6-cd25-89a5326821a2"
      },
      "execution_count": 10,
      "outputs": [
        {
          "output_type": "stream",
          "name": "stdout",
          "text": [
            "float64\n",
            "torch.float64\n"
          ]
        }
      ]
    },
    {
      "cell_type": "code",
      "source": [
        "x_np = np.asarray(x_np, np.float32)\n",
        "x_np"
      ],
      "metadata": {
        "colab": {
          "base_uri": "https://localhost:8080/"
        },
        "id": "dnB2oWYfqEVT",
        "outputId": "2b484d50-2eb5-4c8e-9c6a-886ab29e3842"
      },
      "execution_count": 11,
      "outputs": [
        {
          "output_type": "execute_result",
          "data": {
            "text/plain": [
              "array([[0.31646392, 0.22129172, 0.31724122, 0.932057  ],\n",
              "       [0.9485003 , 0.39738685, 0.49537998, 0.20717065],\n",
              "       [0.97381026, 0.7542114 , 0.4316744 , 0.23772617],\n",
              "       [0.93567234, 0.10810585, 0.08532158, 0.27497992]], dtype=float32)"
            ]
          },
          "metadata": {},
          "execution_count": 11
        }
      ]
    },
    {
      "cell_type": "code",
      "source": [
        "x_pt = torch.tensor(x_np, dtype=torch.float32)\n",
        "x_pt"
      ],
      "metadata": {
        "colab": {
          "base_uri": "https://localhost:8080/"
        },
        "id": "h_BZz0QjrmXX",
        "outputId": "e0e5d4bb-d42f-4169-f37b-a037c8b912cf"
      },
      "execution_count": 12,
      "outputs": [
        {
          "output_type": "execute_result",
          "data": {
            "text/plain": [
              "tensor([[0.3165, 0.2213, 0.3172, 0.9321],\n",
              "        [0.9485, 0.3974, 0.4954, 0.2072],\n",
              "        [0.9738, 0.7542, 0.4317, 0.2377],\n",
              "        [0.9357, 0.1081, 0.0853, 0.2750]])"
            ]
          },
          "metadata": {},
          "execution_count": 12
        }
      ]
    },
    {
      "cell_type": "code",
      "source": [
        "print(x_np.dtype)\n",
        "print(x_pt.dtype)"
      ],
      "metadata": {
        "colab": {
          "base_uri": "https://localhost:8080/"
        },
        "id": "Wesro96gr10W",
        "outputId": "b2a6562c-569a-4901-c98d-da2980769849"
      },
      "execution_count": 13,
      "outputs": [
        {
          "output_type": "stream",
          "name": "stdout",
          "text": [
            "float32\n",
            "torch.float32\n"
          ]
        }
      ]
    },
    {
      "cell_type": "code",
      "source": [
        "b_np = x_np > 0.5\n",
        "print(b_np)\n",
        "print(b_np.dtype)"
      ],
      "metadata": {
        "colab": {
          "base_uri": "https://localhost:8080/"
        },
        "id": "XtaGB9POsED4",
        "outputId": "94519fa9-f42f-4e90-c03a-3d15af69a16e"
      },
      "execution_count": 14,
      "outputs": [
        {
          "output_type": "stream",
          "name": "stdout",
          "text": [
            "[[False False False  True]\n",
            " [ True False False False]\n",
            " [ True  True False False]\n",
            " [ True False False False]]\n",
            "bool\n"
          ]
        }
      ]
    },
    {
      "cell_type": "code",
      "source": [
        "b_pt = x_pt > 0.5\n",
        "print(b_pt)\n",
        "print(b_pt.dtype)"
      ],
      "metadata": {
        "colab": {
          "base_uri": "https://localhost:8080/"
        },
        "id": "87pG88KDsdo9",
        "outputId": "4bacf548-f433-4e7c-f9bd-432956ddffd3"
      },
      "execution_count": 15,
      "outputs": [
        {
          "output_type": "stream",
          "name": "stdout",
          "text": [
            "tensor([[False, False, False,  True],\n",
            "        [ True, False, False, False],\n",
            "        [ True,  True, False, False],\n",
            "        [ True, False, False, False]])\n",
            "torch.bool\n"
          ]
        }
      ]
    },
    {
      "cell_type": "code",
      "source": [
        "np.sum(x_np)"
      ],
      "metadata": {
        "colab": {
          "base_uri": "https://localhost:8080/"
        },
        "id": "xRLcRpVesu6I",
        "outputId": "901e0d3b-c223-4ad9-d804-3e361badc598"
      },
      "execution_count": 16,
      "outputs": [
        {
          "output_type": "execute_result",
          "data": {
            "text/plain": [
              "7.6369934"
            ]
          },
          "metadata": {},
          "execution_count": 16
        }
      ]
    },
    {
      "cell_type": "code",
      "source": [
        "torch.sum(x_pt)"
      ],
      "metadata": {
        "colab": {
          "base_uri": "https://localhost:8080/"
        },
        "id": "aPtNd0Y-tD6n",
        "outputId": "ab456517-ba89-4aab-bbf5-bacecf502c9a"
      },
      "execution_count": 17,
      "outputs": [
        {
          "output_type": "execute_result",
          "data": {
            "text/plain": [
              "tensor(7.6370)"
            ]
          },
          "metadata": {},
          "execution_count": 17
        }
      ]
    },
    {
      "cell_type": "code",
      "source": [
        "np.transpose(x_np)"
      ],
      "metadata": {
        "colab": {
          "base_uri": "https://localhost:8080/"
        },
        "id": "_HQ7u91atH_D",
        "outputId": "fd51c543-cde8-4b52-a100-f5db2985f739"
      },
      "execution_count": 18,
      "outputs": [
        {
          "output_type": "execute_result",
          "data": {
            "text/plain": [
              "array([[0.31646392, 0.9485003 , 0.97381026, 0.93567234],\n",
              "       [0.22129172, 0.39738685, 0.7542114 , 0.10810585],\n",
              "       [0.31724122, 0.49537998, 0.4316744 , 0.08532158],\n",
              "       [0.932057  , 0.20717065, 0.23772617, 0.27497992]], dtype=float32)"
            ]
          },
          "metadata": {},
          "execution_count": 18
        }
      ]
    },
    {
      "cell_type": "code",
      "source": [
        "np.transpose(x_pt)"
      ],
      "metadata": {
        "colab": {
          "base_uri": "https://localhost:8080/"
        },
        "id": "Fll2mfPBcDUP",
        "outputId": "698f469e-fac2-43e6-c1d3-2ca398d12e0e"
      },
      "execution_count": 19,
      "outputs": [
        {
          "output_type": "execute_result",
          "data": {
            "text/plain": [
              "tensor([[0.3165, 0.9485, 0.9738, 0.9357],\n",
              "        [0.2213, 0.3974, 0.7542, 0.1081],\n",
              "        [0.3172, 0.4954, 0.4317, 0.0853],\n",
              "        [0.9321, 0.2072, 0.2377, 0.2750]])"
            ]
          },
          "metadata": {},
          "execution_count": 19
        }
      ]
    },
    {
      "cell_type": "code",
      "source": [
        "torch.transpose(x_pt, 0 , 1)"
      ],
      "metadata": {
        "colab": {
          "base_uri": "https://localhost:8080/"
        },
        "id": "f6MdrljMcI1y",
        "outputId": "8e9da1bd-6439-4de3-facb-448ee3f2f21b"
      },
      "execution_count": 20,
      "outputs": [
        {
          "output_type": "execute_result",
          "data": {
            "text/plain": [
              "tensor([[0.3165, 0.9485, 0.9738, 0.9357],\n",
              "        [0.2213, 0.3974, 0.7542, 0.1081],\n",
              "        [0.3172, 0.4954, 0.4317, 0.0853],\n",
              "        [0.9321, 0.2072, 0.2377, 0.2750]])"
            ]
          },
          "metadata": {},
          "execution_count": 20
        }
      ]
    },
    {
      "cell_type": "code",
      "source": [
        "torch_tensor3d = torch.tensor([[[1, 2, 3], \n",
        "                                [4, 5, 6]], \n",
        "                               [[7, 8, 9], \n",
        "                                [10, 11, 12]], \n",
        "                               [[13, 14, 15], \n",
        "                                [16, 17, 18]], \n",
        "                               [[19, 20, 21], \n",
        "                                [22, 23, 24]]])\n",
        "torch_tensor3d"
      ],
      "metadata": {
        "colab": {
          "base_uri": "https://localhost:8080/"
        },
        "id": "okmqn8ntcVcN",
        "outputId": "d3ad3bfb-3961-4e0d-8811-bacee2557dec"
      },
      "execution_count": 21,
      "outputs": [
        {
          "output_type": "execute_result",
          "data": {
            "text/plain": [
              "tensor([[[ 1,  2,  3],\n",
              "         [ 4,  5,  6]],\n",
              "\n",
              "        [[ 7,  8,  9],\n",
              "         [10, 11, 12]],\n",
              "\n",
              "        [[13, 14, 15],\n",
              "         [16, 17, 18]],\n",
              "\n",
              "        [[19, 20, 21],\n",
              "         [22, 23, 24]]])"
            ]
          },
          "metadata": {},
          "execution_count": 21
        }
      ]
    },
    {
      "cell_type": "code",
      "source": [
        "torch_tensor3d.shape"
      ],
      "metadata": {
        "colab": {
          "base_uri": "https://localhost:8080/"
        },
        "id": "xdQ2_EGmdFtn",
        "outputId": "7fdaa02d-1133-4ecb-beb5-982775f88f1b"
      },
      "execution_count": 22,
      "outputs": [
        {
          "output_type": "execute_result",
          "data": {
            "text/plain": [
              "torch.Size([4, 2, 3])"
            ]
          },
          "metadata": {},
          "execution_count": 22
        }
      ]
    },
    {
      "cell_type": "code",
      "source": [
        "torch.transpose(torch_tensor3d, 0, 2)"
      ],
      "metadata": {
        "colab": {
          "base_uri": "https://localhost:8080/"
        },
        "id": "v_0JuXj8dW0K",
        "outputId": "c25ca547-186a-4557-8088-207a5486bee0"
      },
      "execution_count": 23,
      "outputs": [
        {
          "output_type": "execute_result",
          "data": {
            "text/plain": [
              "tensor([[[ 1,  7, 13, 19],\n",
              "         [ 4, 10, 16, 22]],\n",
              "\n",
              "        [[ 2,  8, 14, 20],\n",
              "         [ 5, 11, 17, 23]],\n",
              "\n",
              "        [[ 3,  9, 15, 21],\n",
              "         [ 6, 12, 18, 24]]])"
            ]
          },
          "metadata": {},
          "execution_count": 23
        }
      ]
    },
    {
      "cell_type": "code",
      "source": [
        "torch.transpose(torch_tensor3d, 0, 2).shape"
      ],
      "metadata": {
        "colab": {
          "base_uri": "https://localhost:8080/"
        },
        "id": "DjHUw6Shdt1Z",
        "outputId": "32b9b161-3d7a-42b9-a6ac-9d9cc7495ec4"
      },
      "execution_count": 24,
      "outputs": [
        {
          "output_type": "execute_result",
          "data": {
            "text/plain": [
              "torch.Size([3, 2, 4])"
            ]
          },
          "metadata": {},
          "execution_count": 24
        }
      ]
    },
    {
      "cell_type": "code",
      "source": [
        "torch.transpose(torch.transpose(torch_tensor3d, 0, 2), 0, 1).shape"
      ],
      "metadata": {
        "colab": {
          "base_uri": "https://localhost:8080/"
        },
        "id": "3hPuoHiHd-xS",
        "outputId": "16038652-efed-4cff-ba5c-7411d19e30fe"
      },
      "execution_count": 25,
      "outputs": [
        {
          "output_type": "execute_result",
          "data": {
            "text/plain": [
              "torch.Size([2, 3, 4])"
            ]
          },
          "metadata": {},
          "execution_count": 25
        }
      ]
    },
    {
      "cell_type": "code",
      "source": [
        "torch.transpose(torch.transpose(torch_tensor3d, 0, 2), 0, 1)"
      ],
      "metadata": {
        "colab": {
          "base_uri": "https://localhost:8080/"
        },
        "id": "w-L73VUeeMgV",
        "outputId": "327c0ebe-8770-47cb-efa5-6d25832a443c"
      },
      "execution_count": 26,
      "outputs": [
        {
          "output_type": "execute_result",
          "data": {
            "text/plain": [
              "tensor([[[ 1,  7, 13, 19],\n",
              "         [ 2,  8, 14, 20],\n",
              "         [ 3,  9, 15, 21]],\n",
              "\n",
              "        [[ 4, 10, 16, 22],\n",
              "         [ 5, 11, 17, 23],\n",
              "         [ 6, 12, 18, 24]]])"
            ]
          },
          "metadata": {},
          "execution_count": 26
        }
      ]
    },
    {
      "cell_type": "code",
      "source": [
        "import timeit\n",
        "\n",
        "x = torch.rand(2**11, 2**11)\n",
        "time_cpu = timeit.timeit('x @ x', globals=globals(), number=100)"
      ],
      "metadata": {
        "id": "bS4V6cdUeY8T"
      },
      "execution_count": 27,
      "outputs": []
    },
    {
      "cell_type": "code",
      "source": [
        "time_cpu"
      ],
      "metadata": {
        "colab": {
          "base_uri": "https://localhost:8080/"
        },
        "id": "O2fi4yCrfotI",
        "outputId": "3a74ac57-8b4d-4b24-f1bd-ce2e90558210"
      },
      "execution_count": 28,
      "outputs": [
        {
          "output_type": "execute_result",
          "data": {
            "text/plain": [
              "14.732396284000004"
            ]
          },
          "metadata": {},
          "execution_count": 28
        }
      ]
    },
    {
      "cell_type": "code",
      "source": [
        "print(f'Is CUDA available?: {torch.cuda.is_available()}')\n",
        "device = torch.device('cuda')"
      ],
      "metadata": {
        "colab": {
          "base_uri": "https://localhost:8080/"
        },
        "id": "e4SFyEsIgJ5K",
        "outputId": "5f98775a-8fe9-4e02-9f4c-21d43a1b2029"
      },
      "execution_count": 29,
      "outputs": [
        {
          "output_type": "stream",
          "name": "stdout",
          "text": [
            "Is CUDA available?: True\n"
          ]
        }
      ]
    },
    {
      "cell_type": "code",
      "source": [
        "x = x.to(device)\n",
        "time_gpu = timeit.timeit('x @ x', globals=globals(), number=100)"
      ],
      "metadata": {
        "id": "ZwE57mEkgXl-"
      },
      "execution_count": 30,
      "outputs": []
    },
    {
      "cell_type": "code",
      "source": [
        "time_gpu"
      ],
      "metadata": {
        "colab": {
          "base_uri": "https://localhost:8080/"
        },
        "id": "XoBEarp5hvcu",
        "outputId": "87427eed-60ef-4e32-db43-d5202da80119"
      },
      "execution_count": 31,
      "outputs": [
        {
          "output_type": "execute_result",
          "data": {
            "text/plain": [
              "2.746012451000013"
            ]
          },
          "metadata": {},
          "execution_count": 31
        }
      ]
    },
    {
      "cell_type": "code",
      "source": [
        "x = torch.rand(128, 128).to(device)\n",
        "y = torch.rand(128, 128)\n",
        "\n",
        "x * y"
      ],
      "metadata": {
        "colab": {
          "base_uri": "https://localhost:8080/",
          "height": 198
        },
        "id": "jTN1CkL9hzD3",
        "outputId": "36aa0c79-38a6-4e20-efaa-a85184bde325"
      },
      "execution_count": 32,
      "outputs": [
        {
          "output_type": "error",
          "ename": "RuntimeError",
          "evalue": "ignored",
          "traceback": [
            "\u001b[0;31m---------------------------------------------------------------------------\u001b[0m",
            "\u001b[0;31mRuntimeError\u001b[0m                              Traceback (most recent call last)",
            "\u001b[0;32m<ipython-input-32-ca4d3b8c7ae8>\u001b[0m in \u001b[0;36m<cell line: 4>\u001b[0;34m()\u001b[0m\n\u001b[1;32m      2\u001b[0m \u001b[0my\u001b[0m \u001b[0;34m=\u001b[0m \u001b[0mtorch\u001b[0m\u001b[0;34m.\u001b[0m\u001b[0mrand\u001b[0m\u001b[0;34m(\u001b[0m\u001b[0;36m128\u001b[0m\u001b[0;34m,\u001b[0m \u001b[0;36m128\u001b[0m\u001b[0;34m)\u001b[0m\u001b[0;34m\u001b[0m\u001b[0;34m\u001b[0m\u001b[0m\n\u001b[1;32m      3\u001b[0m \u001b[0;34m\u001b[0m\u001b[0m\n\u001b[0;32m----> 4\u001b[0;31m \u001b[0mx\u001b[0m \u001b[0;34m*\u001b[0m \u001b[0my\u001b[0m\u001b[0;34m\u001b[0m\u001b[0;34m\u001b[0m\u001b[0m\n\u001b[0m",
            "\u001b[0;31mRuntimeError\u001b[0m: Expected all tensors to be on the same device, but found at least two devices, cuda:0 and cpu!"
          ]
        }
      ]
    },
    {
      "cell_type": "code",
      "source": [
        "x = torch.rand(128, 128)\n",
        "y = torch.rand(128, 128)\n",
        "\n",
        "print(x)\n",
        "print(y)"
      ],
      "metadata": {
        "colab": {
          "base_uri": "https://localhost:8080/"
        },
        "id": "tRi4qcuTuxb9",
        "outputId": "1f6a53af-9728-4919-f150-fbef15a60d4b"
      },
      "execution_count": 33,
      "outputs": [
        {
          "output_type": "stream",
          "name": "stdout",
          "text": [
            "tensor([[0.1711, 0.1919, 0.6570,  ..., 0.3363, 0.3060, 0.5540],\n",
            "        [0.5138, 0.7009, 0.4538,  ..., 0.1811, 0.3106, 0.6074],\n",
            "        [0.4593, 0.1451, 0.7358,  ..., 0.8023, 0.4591, 0.8989],\n",
            "        ...,\n",
            "        [0.0393, 0.0671, 0.4729,  ..., 0.1598, 0.0064, 0.4739],\n",
            "        [0.8069, 0.8919, 0.3701,  ..., 0.2784, 0.4398, 0.5370],\n",
            "        [0.1925, 0.1014, 0.6738,  ..., 0.4943, 0.7422, 0.1580]])\n",
            "tensor([[0.4729, 0.5954, 0.7062,  ..., 0.3485, 0.9824, 0.3782],\n",
            "        [0.1932, 0.7143, 0.6563,  ..., 0.8950, 0.6963, 0.3102],\n",
            "        [0.7453, 0.0305, 0.2596,  ..., 0.3777, 0.7550, 0.2347],\n",
            "        ...,\n",
            "        [0.9477, 0.8713, 0.5575,  ..., 0.0408, 0.6464, 0.4956],\n",
            "        [0.4675, 0.6627, 0.1565,  ..., 0.6110, 0.5429, 0.0600],\n",
            "        [0.7427, 0.6618, 0.7517,  ..., 0.0811, 0.9973, 0.6042]])\n"
          ]
        }
      ]
    },
    {
      "cell_type": "code",
      "source": [
        "x = x.to(device)\n",
        "y = y.to(device)\n",
        "\n",
        "print(x)\n",
        "print(y)"
      ],
      "metadata": {
        "colab": {
          "base_uri": "https://localhost:8080/"
        },
        "id": "EtayKbOOu_d3",
        "outputId": "e72b0ce6-31ff-4bc4-8472-79c056721b72"
      },
      "execution_count": 34,
      "outputs": [
        {
          "output_type": "stream",
          "name": "stdout",
          "text": [
            "tensor([[0.1711, 0.1919, 0.6570,  ..., 0.3363, 0.3060, 0.5540],\n",
            "        [0.5138, 0.7009, 0.4538,  ..., 0.1811, 0.3106, 0.6074],\n",
            "        [0.4593, 0.1451, 0.7358,  ..., 0.8023, 0.4591, 0.8989],\n",
            "        ...,\n",
            "        [0.0393, 0.0671, 0.4729,  ..., 0.1598, 0.0064, 0.4739],\n",
            "        [0.8069, 0.8919, 0.3701,  ..., 0.2784, 0.4398, 0.5370],\n",
            "        [0.1925, 0.1014, 0.6738,  ..., 0.4943, 0.7422, 0.1580]],\n",
            "       device='cuda:0')\n",
            "tensor([[0.4729, 0.5954, 0.7062,  ..., 0.3485, 0.9824, 0.3782],\n",
            "        [0.1932, 0.7143, 0.6563,  ..., 0.8950, 0.6963, 0.3102],\n",
            "        [0.7453, 0.0305, 0.2596,  ..., 0.3777, 0.7550, 0.2347],\n",
            "        ...,\n",
            "        [0.9477, 0.8713, 0.5575,  ..., 0.0408, 0.6464, 0.4956],\n",
            "        [0.4675, 0.6627, 0.1565,  ..., 0.6110, 0.5429, 0.0600],\n",
            "        [0.7427, 0.6618, 0.7517,  ..., 0.0811, 0.9973, 0.6042]],\n",
            "       device='cuda:0')\n"
          ]
        }
      ]
    },
    {
      "cell_type": "code",
      "source": [
        "z = x @ y\n",
        "z"
      ],
      "metadata": {
        "colab": {
          "base_uri": "https://localhost:8080/"
        },
        "id": "2f1vq4MMwsgW",
        "outputId": "3b5c479a-92cf-412f-ed73-d0a499e41b0d"
      },
      "execution_count": 35,
      "outputs": [
        {
          "output_type": "execute_result",
          "data": {
            "text/plain": [
              "tensor([[27.0693, 29.9897, 32.0913,  ..., 28.4849, 27.5957, 31.5534],\n",
              "        [27.1339, 32.2188, 32.8012,  ..., 29.4535, 29.3466, 31.4867],\n",
              "        [28.2757, 32.0078, 34.1500,  ..., 30.2685, 32.3646, 31.6262],\n",
              "        ...,\n",
              "        [29.6260, 30.9064, 32.2832,  ..., 28.1457, 31.2532, 33.6513],\n",
              "        [29.7145, 34.1857, 33.9164,  ..., 30.4843, 32.3147, 34.9546],\n",
              "        [28.3633, 26.7633, 30.7929,  ..., 27.2799, 26.9493, 30.0976]],\n",
              "       device='cuda:0')"
            ]
          },
          "metadata": {},
          "execution_count": 35
        }
      ]
    },
    {
      "cell_type": "code",
      "source": [
        "z.cpu().numpy()"
      ],
      "metadata": {
        "colab": {
          "base_uri": "https://localhost:8080/"
        },
        "id": "1wksVeflwz9r",
        "outputId": "6201df9d-002d-4285-87aa-ccd4429e1fcf"
      },
      "execution_count": 36,
      "outputs": [
        {
          "output_type": "execute_result",
          "data": {
            "text/plain": [
              "array([[27.06929 , 29.989697, 32.09127 , ..., 28.484947, 27.59573 ,\n",
              "        31.553413],\n",
              "       [27.133884, 32.218845, 32.801197, ..., 29.453543, 29.346645,\n",
              "        31.486732],\n",
              "       [28.275715, 32.007812, 34.150013, ..., 30.26847 , 32.364647,\n",
              "        31.626158],\n",
              "       ...,\n",
              "       [29.626041, 30.906448, 32.283203, ..., 28.145702, 31.253174,\n",
              "        33.65133 ],\n",
              "       [29.714457, 34.185665, 33.916412, ..., 30.48427 , 32.3147  ,\n",
              "        34.954582],\n",
              "       [28.36325 , 26.763294, 30.792852, ..., 27.27988 , 26.949257,\n",
              "        30.097572]], dtype=float32)"
            ]
          },
          "metadata": {},
          "execution_count": 36
        }
      ]
    },
    {
      "cell_type": "code",
      "source": [
        "def move_to(obj, device):\n",
        "  if isinstance(obj, list):\n",
        "    return [move_to(x, device) for x in obj]\n",
        "  elif isinstance(obj, tuple):\n",
        "    return tuple(move_to(list(obj), device))\n",
        "  elif isinstance(obj, set):\n",
        "    return set(move_to(list(obj), device))\n",
        "  elif isinstance(obj, dict):\n",
        "    to_ret = dict()\n",
        "    for key, value in obj.items():\n",
        "      to_ret[move_to(key, device)] = move_to(value, device)\n",
        "    return to_ret\n",
        "  elif hasattr(obj, 'to'):\n",
        "    return obj.to(device)\n",
        "  else:\n",
        "    return obj"
      ],
      "metadata": {
        "id": "d52T3NbKj8qu"
      },
      "execution_count": 37,
      "outputs": []
    },
    {
      "cell_type": "code",
      "source": [
        "torch.tensor(3.14)"
      ],
      "metadata": {
        "colab": {
          "base_uri": "https://localhost:8080/"
        },
        "id": "rc1Ie4WVt-ei",
        "outputId": "92a2ab94-d513-4f72-f52f-7a481a22f6f3"
      },
      "execution_count": 38,
      "outputs": [
        {
          "output_type": "execute_result",
          "data": {
            "text/plain": [
              "tensor(3.1400)"
            ]
          },
          "metadata": {},
          "execution_count": 38
        }
      ]
    },
    {
      "cell_type": "code",
      "source": [
        "move_to(torch.tensor(3.14), device)"
      ],
      "metadata": {
        "colab": {
          "base_uri": "https://localhost:8080/"
        },
        "id": "T9wFtiocvS7Y",
        "outputId": "7ec2a55e-34a0-4270-f188-bf4349c00274"
      },
      "execution_count": 39,
      "outputs": [
        {
          "output_type": "execute_result",
          "data": {
            "text/plain": [
              "tensor(3.1400, device='cuda:0')"
            ]
          },
          "metadata": {},
          "execution_count": 39
        }
      ]
    },
    {
      "cell_type": "code",
      "source": [
        "some_tensors_in_list = [torch.tensor(1), torch.tensor(2)]\n",
        "some_tensors_in_tuple = (torch.tensor(1), torch.tensor(2))\n",
        "some_tensors_in_set = {torch.tensor(1), torch.tensor(2)}\n",
        "\n",
        "print(some_tensors_in_list)\n",
        "print(some_tensors_in_tuple)\n",
        "print(some_tensors_in_set)\n",
        "\n",
        "print(move_to(some_tensors_in_list, device))\n",
        "print(move_to(some_tensors_in_tuple, device))\n",
        "print(move_to(some_tensors_in_set, device))"
      ],
      "metadata": {
        "colab": {
          "base_uri": "https://localhost:8080/"
        },
        "id": "VP7hH0F7vXuO",
        "outputId": "da9d6a2e-1909-4187-f893-15e3042e04f8"
      },
      "execution_count": 40,
      "outputs": [
        {
          "output_type": "stream",
          "name": "stdout",
          "text": [
            "[tensor(1), tensor(2)]\n",
            "(tensor(1), tensor(2))\n",
            "{tensor(1), tensor(2)}\n",
            "[tensor(1, device='cuda:0'), tensor(2, device='cuda:0')]\n",
            "(tensor(1, device='cuda:0'), tensor(2, device='cuda:0'))\n",
            "{tensor(1, device='cuda:0'), tensor(2, device='cuda:0')}\n"
          ]
        }
      ]
    },
    {
      "cell_type": "code",
      "source": [
        "some_tensors_in_dict = {\n",
        "    'a': torch.tensor(1),\n",
        "    'b': torch.tensor(2),\n",
        "}\n",
        "some_tensors_in_dict"
      ],
      "metadata": {
        "colab": {
          "base_uri": "https://localhost:8080/"
        },
        "id": "hhexDRkzv681",
        "outputId": "8f055a17-fa2f-4198-c5af-7afa3d3d660e"
      },
      "execution_count": 41,
      "outputs": [
        {
          "output_type": "execute_result",
          "data": {
            "text/plain": [
              "{'a': tensor(1), 'b': tensor(2)}"
            ]
          },
          "metadata": {},
          "execution_count": 41
        }
      ]
    },
    {
      "cell_type": "code",
      "source": [
        "move_to(some_tensors_in_dict, device)"
      ],
      "metadata": {
        "colab": {
          "base_uri": "https://localhost:8080/"
        },
        "id": "wVm3NUSFxXGB",
        "outputId": "bffa14f0-07a1-49fc-bb40-53efee798ee7"
      },
      "execution_count": 42,
      "outputs": [
        {
          "output_type": "execute_result",
          "data": {
            "text/plain": [
              "{'a': tensor(1, device='cuda:0'), 'b': tensor(2, device='cuda:0')}"
            ]
          },
          "metadata": {},
          "execution_count": 42
        }
      ]
    },
    {
      "cell_type": "code",
      "source": [
        "def f(x):\n",
        "  return torch.pow((x - 2.0), 2)\n",
        "\n",
        "x = np.linspace(-7, 9, 100)\n",
        "y = f(torch.tensor(x)).numpy()\n",
        "\n",
        "sns.lineplot(x=x, y=y, label='$f(x)=(x-2)^2$')"
      ],
      "metadata": {
        "colab": {
          "base_uri": "https://localhost:8080/",
          "height": 447
        },
        "id": "C3SD3MudxeGv",
        "outputId": "2395e01f-9b1b-4fbf-b7bc-07a93a737a5d"
      },
      "execution_count": 52,
      "outputs": [
        {
          "output_type": "execute_result",
          "data": {
            "text/plain": [
              "<Axes: >"
            ]
          },
          "metadata": {},
          "execution_count": 52
        },
        {
          "output_type": "display_data",
          "data": {
            "text/plain": [
              "<Figure size 640x480 with 1 Axes>"
            ],
            "image/png": "[encoded data removed]"
          },
          "metadata": {}
        }
      ]
    },
    {
      "cell_type": "code",
      "source": [
        "def f_p(x):\n",
        "  return (2 * x) - 4\n",
        "\n",
        "y_p = f_p(torch.tensor(x)).numpy()\n",
        "\n",
        "sns.lineplot(x=x, y=[0.0] * len(x), label='0', color='black')\n",
        "sns.lineplot(x=x, y=y, label='Function to minimize $f(x) = (x-2)^2$')\n",
        "sns.lineplot(x=x, y=y_p, label='Gradient of function $f\\'(x) = 2x-4$')"
      ],
      "metadata": {
        "colab": {
          "base_uri": "https://localhost:8080/",
          "height": 447
        },
        "id": "XmV6yHi1XK1o",
        "outputId": "31132dfe-d953-4b94-8b2f-869b602baffa"
      },
      "execution_count": 61,
      "outputs": [
        {
          "output_type": "execute_result",
          "data": {
            "text/plain": [
              "<Axes: >"
            ]
          },
          "metadata": {},
          "execution_count": 61
        },
        {
          "output_type": "display_data",
          "data": {
            "text/plain": [
              "<Figure size 640x480 with 1 Axes>"
            ],
            "image/png": "[encoded data removed]"
          },
          "metadata": {}
        }
      ]
    },
    {
      "cell_type": "code",
      "source": [
        "x = torch.tensor(-3.5)\n",
        "value = f(x)\n",
        "value"
      ],
      "metadata": {
        "colab": {
          "base_uri": "https://localhost:8080/"
        },
        "id": "rI05at9PZEec",
        "outputId": "48a92e48-0a92-4572-e96e-b287bff35474"
      },
      "execution_count": 82,
      "outputs": [
        {
          "output_type": "execute_result",
          "data": {
            "text/plain": [
              "tensor(30.2500)"
            ]
          },
          "metadata": {},
          "execution_count": 82
        }
      ]
    },
    {
      "cell_type": "code",
      "source": [
        "value.backward()\n",
        "x.grad"
      ],
      "metadata": {
        "colab": {
          "base_uri": "https://localhost:8080/",
          "height": 324
        },
        "id": "z1qVS6t2dh3P",
        "outputId": "95048e8a-b237-466f-a429-764aade3e0d9"
      },
      "execution_count": 84,
      "outputs": [
        {
          "output_type": "error",
          "ename": "RuntimeError",
          "evalue": "ignored",
          "traceback": [
            "\u001b[0;31m---------------------------------------------------------------------------\u001b[0m",
            "\u001b[0;31mRuntimeError\u001b[0m                              Traceback (most recent call last)",
            "\u001b[0;32m<ipython-input-84-19e94f10a022>\u001b[0m in \u001b[0;36m<cell line: 1>\u001b[0;34m()\u001b[0m\n\u001b[0;32m----> 1\u001b[0;31m \u001b[0mvalue\u001b[0m\u001b[0;34m.\u001b[0m\u001b[0mbackward\u001b[0m\u001b[0;34m(\u001b[0m\u001b[0;34m)\u001b[0m\u001b[0;34m\u001b[0m\u001b[0;34m\u001b[0m\u001b[0m\n\u001b[0m\u001b[1;32m      2\u001b[0m \u001b[0mx\u001b[0m\u001b[0;34m.\u001b[0m\u001b[0mgrad\u001b[0m\u001b[0;34m\u001b[0m\u001b[0;34m\u001b[0m\u001b[0m\n",
            "\u001b[0;32m/usr/local/lib/python3.10/dist-packages/torch/_tensor.py\u001b[0m in \u001b[0;36mbackward\u001b[0;34m(self, gradient, retain_graph, create_graph, inputs)\u001b[0m\n\u001b[1;32m    485\u001b[0m                 \u001b[0minputs\u001b[0m\u001b[0;34m=\u001b[0m\u001b[0minputs\u001b[0m\u001b[0;34m,\u001b[0m\u001b[0;34m\u001b[0m\u001b[0;34m\u001b[0m\u001b[0m\n\u001b[1;32m    486\u001b[0m             )\n\u001b[0;32m--> 487\u001b[0;31m         torch.autograd.backward(\n\u001b[0m\u001b[1;32m    488\u001b[0m             \u001b[0mself\u001b[0m\u001b[0;34m,\u001b[0m \u001b[0mgradient\u001b[0m\u001b[0;34m,\u001b[0m \u001b[0mretain_graph\u001b[0m\u001b[0;34m,\u001b[0m \u001b[0mcreate_graph\u001b[0m\u001b[0;34m,\u001b[0m \u001b[0minputs\u001b[0m\u001b[0;34m=\u001b[0m\u001b[0minputs\u001b[0m\u001b[0;34m\u001b[0m\u001b[0;34m\u001b[0m\u001b[0m\n\u001b[1;32m    489\u001b[0m         )\n",
            "\u001b[0;32m/usr/local/lib/python3.10/dist-packages/torch/autograd/__init__.py\u001b[0m in \u001b[0;36mbackward\u001b[0;34m(tensors, grad_tensors, retain_graph, create_graph, grad_variables, inputs)\u001b[0m\n\u001b[1;32m    198\u001b[0m     \u001b[0;31m# some Python versions print out the first line of a multi-line function\u001b[0m\u001b[0;34m\u001b[0m\u001b[0;34m\u001b[0m\u001b[0m\n\u001b[1;32m    199\u001b[0m     \u001b[0;31m# calls in the traceback and some print out the last line\u001b[0m\u001b[0;34m\u001b[0m\u001b[0;34m\u001b[0m\u001b[0m\n\u001b[0;32m--> 200\u001b[0;31m     Variable._execution_engine.run_backward(  # Calls into the C++ engine to run the backward pass\n\u001b[0m\u001b[1;32m    201\u001b[0m         \u001b[0mtensors\u001b[0m\u001b[0;34m,\u001b[0m \u001b[0mgrad_tensors_\u001b[0m\u001b[0;34m,\u001b[0m \u001b[0mretain_graph\u001b[0m\u001b[0;34m,\u001b[0m \u001b[0mcreate_graph\u001b[0m\u001b[0;34m,\u001b[0m \u001b[0minputs\u001b[0m\u001b[0;34m,\u001b[0m\u001b[0;34m\u001b[0m\u001b[0;34m\u001b[0m\u001b[0m\n\u001b[1;32m    202\u001b[0m         allow_unreachable=True, accumulate_grad=True)  # Calls into the C++ engine to run the backward pass\n",
            "\u001b[0;31mRuntimeError\u001b[0m: element 0 of tensors does not require grad and does not have a grad_fn"
          ]
        }
      ]
    },
    {
      "cell_type": "code",
      "source": [
        "x = torch.tensor(-3.5, requires_grad=True)\n",
        "value = f(x)\n",
        "value"
      ],
      "metadata": {
        "colab": {
          "base_uri": "https://localhost:8080/"
        },
        "id": "YI1VrXh2babo",
        "outputId": "9f739e45-6cf7-4df2-9ef9-645c8e9faf02"
      },
      "execution_count": 79,
      "outputs": [
        {
          "output_type": "execute_result",
          "data": {
            "text/plain": [
              "tensor(30.2500, grad_fn=<PowBackward0>)"
            ]
          },
          "metadata": {},
          "execution_count": 79
        }
      ]
    },
    {
      "cell_type": "code",
      "source": [
        "value.backward()\n",
        "x.grad"
      ],
      "metadata": {
        "colab": {
          "base_uri": "https://localhost:8080/"
        },
        "id": "488HxX1AbuFG",
        "outputId": "becf9569-3525-44ff-93e0-f9b0e14ed1d0"
      },
      "execution_count": 81,
      "outputs": [
        {
          "output_type": "execute_result",
          "data": {
            "text/plain": [
              "tensor(-11.)"
            ]
          },
          "metadata": {},
          "execution_count": 81
        }
      ]
    },
    {
      "cell_type": "code",
      "source": [
        "x = torch.tensor([-3.5], requires_grad=True)\n",
        "value = f(x)\n",
        "value"
      ],
      "metadata": {
        "colab": {
          "base_uri": "https://localhost:8080/"
        },
        "id": "94ltiaITdbPi",
        "outputId": "e7047d33-505a-4279-b297-eaa1163d872d"
      },
      "execution_count": 85,
      "outputs": [
        {
          "output_type": "execute_result",
          "data": {
            "text/plain": [
              "tensor([30.2500], grad_fn=<PowBackward0>)"
            ]
          },
          "metadata": {},
          "execution_count": 85
        }
      ]
    },
    {
      "cell_type": "code",
      "source": [
        "value.backward()\n",
        "x.grad"
      ],
      "metadata": {
        "colab": {
          "base_uri": "https://localhost:8080/"
        },
        "id": "Xm98KRwOd1ac",
        "outputId": "0861e2a8-87b0-4176-97e0-b887fa8ea9a6"
      },
      "execution_count": 87,
      "outputs": [
        {
          "output_type": "execute_result",
          "data": {
            "text/plain": [
              "tensor([-11.])"
            ]
          },
          "metadata": {},
          "execution_count": 87
        }
      ]
    },
    {
      "cell_type": "code",
      "source": [
        "x = torch.tensor([-3.5, 0, 2, 3.5], requires_grad=True)\n",
        "value = f(x)\n",
        "value"
      ],
      "metadata": {
        "colab": {
          "base_uri": "https://localhost:8080/"
        },
        "id": "AX2ZE7ejd3Zv",
        "outputId": "f00a150c-9821-4567-8fa5-6ec0961ee174"
      },
      "execution_count": 88,
      "outputs": [
        {
          "output_type": "execute_result",
          "data": {
            "text/plain": [
              "tensor([30.2500,  4.0000,  0.0000,  2.2500], grad_fn=<PowBackward0>)"
            ]
          },
          "metadata": {},
          "execution_count": 88
        }
      ]
    },
    {
      "cell_type": "code",
      "source": [
        "value.backward()\n",
        "x.grad"
      ],
      "metadata": {
        "colab": {
          "base_uri": "https://localhost:8080/",
          "height": 324
        },
        "id": "vwrt8fcheCcB",
        "outputId": "a5fc0cd9-5e69-4faa-ec35-259c8682c8e0"
      },
      "execution_count": 91,
      "outputs": [
        {
          "output_type": "error",
          "ename": "RuntimeError",
          "evalue": "ignored",
          "traceback": [
            "\u001b[0;31m---------------------------------------------------------------------------\u001b[0m",
            "\u001b[0;31mRuntimeError\u001b[0m                              Traceback (most recent call last)",
            "\u001b[0;32m<ipython-input-91-19e94f10a022>\u001b[0m in \u001b[0;36m<cell line: 1>\u001b[0;34m()\u001b[0m\n\u001b[0;32m----> 1\u001b[0;31m \u001b[0mvalue\u001b[0m\u001b[0;34m.\u001b[0m\u001b[0mbackward\u001b[0m\u001b[0;34m(\u001b[0m\u001b[0;34m)\u001b[0m\u001b[0;34m\u001b[0m\u001b[0;34m\u001b[0m\u001b[0m\n\u001b[0m\u001b[1;32m      2\u001b[0m \u001b[0mx\u001b[0m\u001b[0;34m.\u001b[0m\u001b[0mgrad\u001b[0m\u001b[0;34m\u001b[0m\u001b[0;34m\u001b[0m\u001b[0m\n",
            "\u001b[0;32m/usr/local/lib/python3.10/dist-packages/torch/_tensor.py\u001b[0m in \u001b[0;36mbackward\u001b[0;34m(self, gradient, retain_graph, create_graph, inputs)\u001b[0m\n\u001b[1;32m    485\u001b[0m                 \u001b[0minputs\u001b[0m\u001b[0;34m=\u001b[0m\u001b[0minputs\u001b[0m\u001b[0;34m,\u001b[0m\u001b[0;34m\u001b[0m\u001b[0;34m\u001b[0m\u001b[0m\n\u001b[1;32m    486\u001b[0m             )\n\u001b[0;32m--> 487\u001b[0;31m         torch.autograd.backward(\n\u001b[0m\u001b[1;32m    488\u001b[0m             \u001b[0mself\u001b[0m\u001b[0;34m,\u001b[0m \u001b[0mgradient\u001b[0m\u001b[0;34m,\u001b[0m \u001b[0mretain_graph\u001b[0m\u001b[0;34m,\u001b[0m \u001b[0mcreate_graph\u001b[0m\u001b[0;34m,\u001b[0m \u001b[0minputs\u001b[0m\u001b[0;34m=\u001b[0m\u001b[0minputs\u001b[0m\u001b[0;34m\u001b[0m\u001b[0;34m\u001b[0m\u001b[0m\n\u001b[1;32m    489\u001b[0m         )\n",
            "\u001b[0;32m/usr/local/lib/python3.10/dist-packages/torch/autograd/__init__.py\u001b[0m in \u001b[0;36mbackward\u001b[0;34m(tensors, grad_tensors, retain_graph, create_graph, grad_variables, inputs)\u001b[0m\n\u001b[1;32m    191\u001b[0m \u001b[0;34m\u001b[0m\u001b[0m\n\u001b[1;32m    192\u001b[0m     \u001b[0mgrad_tensors_\u001b[0m \u001b[0;34m=\u001b[0m \u001b[0m_tensor_or_tensors_to_tuple\u001b[0m\u001b[0;34m(\u001b[0m\u001b[0mgrad_tensors\u001b[0m\u001b[0;34m,\u001b[0m \u001b[0mlen\u001b[0m\u001b[0;34m(\u001b[0m\u001b[0mtensors\u001b[0m\u001b[0;34m)\u001b[0m\u001b[0;34m)\u001b[0m\u001b[0;34m\u001b[0m\u001b[0;34m\u001b[0m\u001b[0m\n\u001b[0;32m--> 193\u001b[0;31m     \u001b[0mgrad_tensors_\u001b[0m \u001b[0;34m=\u001b[0m \u001b[0m_make_grads\u001b[0m\u001b[0;34m(\u001b[0m\u001b[0mtensors\u001b[0m\u001b[0;34m,\u001b[0m \u001b[0mgrad_tensors_\u001b[0m\u001b[0;34m,\u001b[0m \u001b[0mis_grads_batched\u001b[0m\u001b[0;34m=\u001b[0m\u001b[0;32mFalse\u001b[0m\u001b[0;34m)\u001b[0m\u001b[0;34m\u001b[0m\u001b[0;34m\u001b[0m\u001b[0m\n\u001b[0m\u001b[1;32m    194\u001b[0m     \u001b[0;32mif\u001b[0m \u001b[0mretain_graph\u001b[0m \u001b[0;32mis\u001b[0m \u001b[0;32mNone\u001b[0m\u001b[0;34m:\u001b[0m\u001b[0;34m\u001b[0m\u001b[0;34m\u001b[0m\u001b[0m\n\u001b[1;32m    195\u001b[0m         \u001b[0mretain_graph\u001b[0m \u001b[0;34m=\u001b[0m \u001b[0mcreate_graph\u001b[0m\u001b[0;34m\u001b[0m\u001b[0;34m\u001b[0m\u001b[0m\n",
            "\u001b[0;32m/usr/local/lib/python3.10/dist-packages/torch/autograd/__init__.py\u001b[0m in \u001b[0;36m_make_grads\u001b[0;34m(outputs, grads, is_grads_batched)\u001b[0m\n\u001b[1;32m     86\u001b[0m             \u001b[0;32mif\u001b[0m \u001b[0mout\u001b[0m\u001b[0;34m.\u001b[0m\u001b[0mrequires_grad\u001b[0m\u001b[0;34m:\u001b[0m\u001b[0;34m\u001b[0m\u001b[0;34m\u001b[0m\u001b[0m\n\u001b[1;32m     87\u001b[0m                 \u001b[0;32mif\u001b[0m \u001b[0mout\u001b[0m\u001b[0;34m.\u001b[0m\u001b[0mnumel\u001b[0m\u001b[0;34m(\u001b[0m\u001b[0;34m)\u001b[0m \u001b[0;34m!=\u001b[0m \u001b[0;36m1\u001b[0m\u001b[0;34m:\u001b[0m\u001b[0;34m\u001b[0m\u001b[0;34m\u001b[0m\u001b[0m\n\u001b[0;32m---> 88\u001b[0;31m                     \u001b[0;32mraise\u001b[0m \u001b[0mRuntimeError\u001b[0m\u001b[0;34m(\u001b[0m\u001b[0;34m\"grad can be implicitly created only for scalar outputs\"\u001b[0m\u001b[0;34m)\u001b[0m\u001b[0;34m\u001b[0m\u001b[0;34m\u001b[0m\u001b[0m\n\u001b[0m\u001b[1;32m     89\u001b[0m                 \u001b[0mnew_grads\u001b[0m\u001b[0;34m.\u001b[0m\u001b[0mappend\u001b[0m\u001b[0;34m(\u001b[0m\u001b[0mtorch\u001b[0m\u001b[0;34m.\u001b[0m\u001b[0mones_like\u001b[0m\u001b[0;34m(\u001b[0m\u001b[0mout\u001b[0m\u001b[0;34m,\u001b[0m \u001b[0mmemory_format\u001b[0m\u001b[0;34m=\u001b[0m\u001b[0mtorch\u001b[0m\u001b[0;34m.\u001b[0m\u001b[0mpreserve_format\u001b[0m\u001b[0;34m)\u001b[0m\u001b[0;34m)\u001b[0m\u001b[0;34m\u001b[0m\u001b[0;34m\u001b[0m\u001b[0m\n\u001b[1;32m     90\u001b[0m             \u001b[0;32melse\u001b[0m\u001b[0;34m:\u001b[0m\u001b[0;34m\u001b[0m\u001b[0;34m\u001b[0m\u001b[0m\n",
            "\u001b[0;31mRuntimeError\u001b[0m: grad can be implicitly created only for scalar outputs"
          ]
        }
      ]
    },
    {
      "cell_type": "code",
      "source": [
        "x = torch.tensor(2.0, requires_grad=True)\n",
        "value = f(x)\n",
        "value"
      ],
      "metadata": {
        "colab": {
          "base_uri": "https://localhost:8080/"
        },
        "id": "HkwnnTxWeFvN",
        "outputId": "da542768-5f74-493b-c449-40579507e6a7"
      },
      "execution_count": 92,
      "outputs": [
        {
          "output_type": "execute_result",
          "data": {
            "text/plain": [
              "tensor(0., grad_fn=<PowBackward0>)"
            ]
          },
          "metadata": {},
          "execution_count": 92
        }
      ]
    },
    {
      "cell_type": "code",
      "source": [
        "value.backward()\n",
        "x.grad"
      ],
      "metadata": {
        "colab": {
          "base_uri": "https://localhost:8080/"
        },
        "id": "5MmMkvC5ejax",
        "outputId": "41b8f27c-d68f-432e-e1ea-bc93df9648de"
      },
      "execution_count": 93,
      "outputs": [
        {
          "output_type": "execute_result",
          "data": {
            "text/plain": [
              "tensor(0.)"
            ]
          },
          "metadata": {},
          "execution_count": 93
        }
      ]
    },
    {
      "cell_type": "code",
      "source": [
        "x = torch.tensor(-3.5, requires_grad=True)\n",
        "\n",
        "x_curr = x.clone()\n",
        "x_prev = x_curr * 100\n",
        "\n",
        "epsilon = 1e-5\n",
        "eta = 0.1\n",
        "\n",
        "while torch.linalg.norm(x_curr - x_prev) > epsilon:\n",
        "  x_prev = x_curr\n",
        "  value = f(x)\n",
        "  value.backward()\n",
        "  x.data = x.data - eta * x.grad\n",
        "  print(f'Previous Input: {x_prev:25}, Gradient: {x.grad:25}, Update: {(eta * x.grad):25}, Current Input: {x.data:25}')\n",
        "  x.grad.zero_()\n",
        "  x_curr = x.data"
      ],
      "metadata": {
        "colab": {
          "base_uri": "https://localhost:8080/"
        },
        "id": "EjAK_aLoenDJ",
        "outputId": "4c46a28d-e00e-435f-d447-f03cbaa3a04e"
      },
      "execution_count": 117,
      "outputs": [
        {
          "output_type": "stream",
          "name": "stdout",
          "text": [
            "Previous Input:                      -3.5, Gradient:                     -11.0, Update:        -1.100000023841858, Current Input:       -2.4000000953674316\n",
            "Previous Input:       -2.4000000953674316, Gradient:        -8.800000190734863, Update:       -0.8800000548362732, Current Input:       -1.5199999809265137\n",
            "Previous Input:       -1.5199999809265137, Gradient:        -7.039999961853027, Update:       -0.7039999961853027, Current Input:       -0.8159999847412109\n",
            "Previous Input:       -0.8159999847412109, Gradient:        -5.631999969482422, Update:       -0.5631999969482422, Current Input:      -0.25279998779296875\n",
            "Previous Input:      -0.25279998779296875, Gradient:       -4.5055999755859375, Update:       -0.4505600035190582, Current Input:       0.19776001572608948\n",
            "Previous Input:       0.19776001572608948, Gradient:        -3.604480028152466, Update:       -0.3604480028152466, Current Input:        0.5582079887390137\n",
            "Previous Input:        0.5582079887390137, Gradient:       -2.8835840225219727, Update:       -0.2883584201335907, Current Input:        0.8465664386749268\n",
            "Previous Input:        0.8465664386749268, Gradient:       -2.3068671226501465, Update:       -0.2306867092847824, Current Input:        1.0772531032562256\n",
            "Previous Input:        1.0772531032562256, Gradient:       -1.8454937934875488, Update:      -0.18454937636852264, Current Input:        1.2618024349212646\n",
            "Previous Input:        1.2618024349212646, Gradient:       -1.4763951301574707, Update:      -0.14763951301574707, Current Input:        1.4094419479370117\n",
            "Previous Input:        1.4094419479370117, Gradient:       -1.1811161041259766, Update:      -0.11811161041259766, Current Input:        1.5275535583496094\n",
            "Previous Input:        1.5275535583496094, Gradient:       -0.9448928833007812, Update:      -0.09448929131031036, Current Input:        1.6220428943634033\n",
            "Previous Input:        1.6220428943634033, Gradient:       -0.7559142112731934, Update:      -0.07559142261743546, Current Input:        1.6976343393325806\n",
            "Previous Input:        1.6976343393325806, Gradient:       -0.6047313213348389, Update:     -0.060473132878541946, Current Input:        1.7581074237823486\n",
            "Previous Input:        1.7581074237823486, Gradient:      -0.48378515243530273, Update:      -0.04837851598858833, Current Input:         1.806485891342163\n",
            "Previous Input:         1.806485891342163, Gradient:      -0.38702821731567383, Update:       -0.0387028232216835, Current Input:        1.8451887369155884\n",
            "Previous Input:        1.8451887369155884, Gradient:      -0.30962252616882324, Update:     -0.030962252989411354, Current Input:        1.8761509656906128\n",
            "Previous Input:        1.8761509656906128, Gradient:      -0.24769806861877441, Update:      -0.02476980723440647, Current Input:        1.9009207487106323\n",
            "Previous Input:        1.9009207487106323, Gradient:      -0.19815850257873535, Update:     -0.019815851002931595, Current Input:          1.92073655128479\n",
            "Previous Input:          1.92073655128479, Gradient:      -0.15852689743041992, Update:     -0.015852689743041992, Current Input:         1.936589241027832\n",
            "Previous Input:         1.936589241027832, Gradient:      -0.12682151794433594, Update:     -0.012682151980698109, Current Input:        1.9492714405059814\n",
            "Previous Input:        1.9492714405059814, Gradient:      -0.10145711898803711, Update:     -0.010145711712539196, Current Input:        1.9594171047210693\n",
            "Previous Input:        1.9594171047210693, Gradient:      -0.08116579055786133, Update:     -0.008116579614579678, Current Input:        1.9675337076187134\n",
            "Previous Input:        1.9675337076187134, Gradient:      -0.06493258476257324, Update:     -0.006493258755654097, Current Input:        1.9740269184112549\n",
            "Previous Input:        1.9740269184112549, Gradient:     -0.051946163177490234, Update:     -0.005194616504013538, Current Input:        1.9792215824127197\n",
            "Previous Input:        1.9792215824127197, Gradient:      -0.04155683517456055, Update:     -0.004155683796852827, Current Input:          1.98337721824646\n",
            "Previous Input:          1.98337721824646, Gradient:      -0.03324556350708008, Update:    -0.0033245563972741365, Current Input:        1.9867017269134521\n",
            "Previous Input:        1.9867017269134521, Gradient:     -0.026596546173095703, Update:    -0.0026596547104418278, Current Input:        1.9893614053726196\n",
            "Previous Input:        1.9893614053726196, Gradient:     -0.021277189254760742, Update:    -0.0021277188789099455, Current Input:        1.9914891719818115\n",
            "Previous Input:        1.9914891719818115, Gradient:     -0.017021656036376953, Update:     -0.001702165580354631, Current Input:        1.9931913614273071\n",
            "Previous Input:        1.9931913614273071, Gradient:     -0.013617277145385742, Update:    -0.0013617277145385742, Current Input:        1.9945530891418457\n",
            "Previous Input:        1.9945530891418457, Gradient:     -0.010893821716308594, Update:     -0.001089382218196988, Current Input:        1.9956424236297607\n",
            "Previous Input:        1.9956424236297607, Gradient:     -0.008715152740478516, Update:    -0.0008715153089724481, Current Input:        1.9965139627456665\n",
            "Previous Input:        1.9965139627456665, Gradient:     -0.006972074508666992, Update:    -0.0006972074625082314, Current Input:         1.997211217880249\n",
            "Previous Input:         1.997211217880249, Gradient:     -0.005577564239501953, Update:    -0.0005577564588747919, Current Input:        1.9977689981460571\n",
            "Previous Input:        1.9977689981460571, Gradient:     -0.004462003707885742, Update:    -0.0004462003707885742, Current Input:        1.9982151985168457\n",
            "Previous Input:        1.9982151985168457, Gradient:    -0.0035696029663085938, Update:   -0.00035696031409315765, Current Input:        1.9985721111297607\n",
            "Previous Input:        1.9985721111297607, Gradient:    -0.0028557777404785156, Update:   -0.00028557778568938375, Current Input:        1.9988577365875244\n",
            "Previous Input:        1.9988577365875244, Gradient:     -0.002284526824951172, Update:   -0.00022845268540550023, Current Input:        1.9990861415863037\n",
            "Previous Input:        1.9990861415863037, Gradient:    -0.0018277168273925781, Update:   -0.00018277169147040695, Current Input:         1.999268889427185\n",
            "Previous Input:         1.999268889427185, Gradient:    -0.0014622211456298828, Update:   -0.00014622211165260524, Current Input:        1.9994151592254639\n",
            "Previous Input:        1.9994151592254639, Gradient:    -0.0011696815490722656, Update:   -0.00011696815636241809, Current Input:        1.9995321035385132\n",
            "Previous Input:        1.9995321035385132, Gradient:    -0.0009357929229736328, Update:    -9.357929229736328e-05, Current Input:        1.9996256828308105\n",
            "Previous Input:        1.9996256828308105, Gradient:    -0.0007486343383789062, Update:    -7.486343383789062e-05, Current Input:        1.9997005462646484\n",
            "Previous Input:        1.9997005462646484, Gradient:     -0.000598907470703125, Update:    -5.989074634271674e-05, Current Input:         1.999760389328003\n",
            "Previous Input:         1.999760389328003, Gradient:    -0.0004792213439941406, Update:    -4.792213439941406e-05, Current Input:        1.9998083114624023\n",
            "Previous Input:        1.9998083114624023, Gradient:    -0.0003833770751953125, Update:    -3.833770824712701e-05, Current Input:        1.9998466968536377\n",
            "Previous Input:        1.9998466968536377, Gradient:    -0.0003066062927246094, Update:    -3.066063072765246e-05, Current Input:        1.9998773336410522\n",
            "Previous Input:        1.9998773336410522, Gradient:    -0.0002453327178955078, Update:   -2.4533272153348662e-05, Current Input:        1.9999018907546997\n",
            "Previous Input:        1.9999018907546997, Gradient:   -0.00019621849060058594, Update:   -1.9621849787654355e-05, Current Input:        1.9999215602874756\n",
            "Previous Input:        1.9999215602874756, Gradient:   -0.00015687942504882812, Update:   -1.5687943232478574e-05, Current Input:        1.9999372959136963\n",
            "Previous Input:        1.9999372959136963, Gradient:   -0.00012540817260742188, Update:   -1.2540817806439009e-05, Current Input:        1.9999498128890991\n",
            "Previous Input:        1.9999498128890991, Gradient:   -0.00010037422180175781, Update:   -1.0037422725872602e-05, Current Input:        1.9999598264694214\n",
            "Previous Input:        1.9999598264694214, Gradient:    -8.034706115722656e-05, Update:    -8.034706297621597e-06, Current Input:        1.9999678134918213\n"
          ]
        }
      ]
    },
    {
      "cell_type": "code",
      "source": [],
      "metadata": {
        "id": "13tR2x0MjwJI"
      },
      "execution_count": null,
      "outputs": []
    }
  ]
}